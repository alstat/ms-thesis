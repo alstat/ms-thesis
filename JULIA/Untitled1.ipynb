{
 "cells": [
  {
   "cell_type": "code",
   "execution_count": 6,
   "metadata": {
    "collapsed": true
   },
   "outputs": [],
   "source": [
    "using DataFrames\n",
    "using Distributions\n",
    "using Gadfly\n",
    "using StochMCMC\n",
    "Gadfly.push_theme(:dark)\n",
    "\n",
    "srand(123);\n",
    "\n",
    "# Define data parameters\n",
    "w0 = -.3; w1 = -.5; stdev = 5.;\n",
    "a = 1 / stdev;\n",
    "\n",
    "# Generate Hypothetical Data\n",
    "n = 200;\n",
    "x = rand(Uniform(-1, 1), n);\n",
    "A = [ones(length(x)) x];\n",
    "B = [w0; w1];\n",
    "f = A * B;\n",
    "y = f + rand(Normal(0, alpha), n);\n",
    "\n",
    "my_df = DataFrame(Independent = round(x, 4), Dependent = round(y, 4));"
   ]
  },
  {
   "cell_type": "code",
   "execution_count": 9,
   "metadata": {
    "collapsed": false
   },
   "outputs": [
    {
     "name": "stderr",
     "output_type": "stream",
     "text": [
      "WARNING: Method definition logprior(Array{Float64, N<:Any}) in module Main at In[3]:2 overwritten at In[9]:2.\n",
      "WARNING: Method definition #logprior(Array{Any, 1}, Main.#logprior, Array{Float64, N<:Any}) in module Main overwritten.\n",
      "WARNING: Method definition loglike(Array{Float64, N<:Any}) in module Main at In[3]:13 overwritten at In[9]:13.\n",
      "WARNING: Method definition #loglike(Array{Any, 1}, Main.#loglike, Array{Float64, N<:Any}) in module Main overwritten.\n",
      "\u001b[1m\u001b[31mWARNING: replacing docs for 'loglike :: Tuple{Array{Float64,N}}' in module 'Main'.\u001b[0m\n",
      "WARNING: Method definition logpost(Array{Float64, N<:Any}) in module Main at In[3]:27 overwritten at In[9]:27.\n",
      "\u001b[1m\u001b[31mWARNING: replacing docs for 'logpost :: Tuple{Array{Float64,N}}' in module 'Main'.\u001b[0m\n"
     ]
    },
    {
     "data": {
      "text/plain": [
       "logpost"
      ]
     },
     "execution_count": 9,
     "metadata": {},
     "output_type": "execute_result"
    }
   ],
   "source": [
    "function logprior(theta::Array{Float64}; mu::Array{Float64} = zero_vec, s::Array{Float64} = s)\n",
    "  w0_prior = log(pdf(Normal(mu[1, 1], s[1, 1]), theta[1]))\n",
    "  w1_prior = log(pdf(Normal(mu[2, 1], s[2, 2]), theta[2]))\n",
    "   w_prior = [w0_prior w1_prior]\n",
    "\n",
    "  return w_prior |> sum\n",
    "end\n",
    "\n",
    "\"\"\"\n",
    "The log likelihood function is given by the following codes:\n",
    "\"\"\"\n",
    "function loglike(theta::Array{Float64}; alpha::Float64 = a, x::Array{Float64} = x, y::Array{Float64} = y)\n",
    "  yhat = theta[1] + theta[2] * x\n",
    "\n",
    "  likhood = Float64[]\n",
    "  for i in 1:length(yhat)\n",
    "    push!(likhood, log(pdf(Normal(yhat[i], alpha), y[i])))\n",
    "  end\n",
    "\n",
    "  return likhood |> sum\n",
    "end\n",
    "\n",
    "\"\"\"\n",
    "The log posterior function is given by the following codes:\n",
    "\"\"\"\n",
    "function logpost(theta::Array{Float64})\n",
    "  loglike(theta, alpha = a, x = x, y = y) + logprior(theta, mu = zero_vec, s = eye_mat)\n",
    "end"
   ]
  },
  {
   "cell_type": "code",
   "execution_count": 10,
   "metadata": {
    "collapsed": false
   },
   "outputs": [
    {
     "data": {
      "text/plain": [
       "2×2 Array{Float64,2}:\n",
       " 1.0  0.0\n",
       " 0.0  1.0"
      ]
     },
     "execution_count": 10,
     "metadata": {},
     "output_type": "execute_result"
    }
   ],
   "source": [
    "# Hyperparameters\n",
    "zero_vec = zeros(2)\n",
    "eye_mat = eye(2)"
   ]
  },
  {
   "cell_type": "code",
   "execution_count": 11,
   "metadata": {
    "collapsed": false
   },
   "outputs": [],
   "source": [
    "mh_object = MH(logpost; init_est = [.1; .1]);\n",
    "chain1 = mcmc(mh_object, r = 10000);"
   ]
  },
  {
   "cell_type": "code",
   "execution_count": 12,
   "metadata": {
    "collapsed": false
   },
   "outputs": [
    {
     "data": {
      "text/plain": [
       "1×2 Array{Float64,2}:\n",
       " -0.30074  -0.503438"
      ]
     },
     "execution_count": 12,
     "metadata": {},
     "output_type": "execute_result"
    }
   ],
   "source": [
    "burn_in = 100\n",
    "thinning = 10\n",
    "\n",
    "# Expetation of the Posterior\n",
    "est1 = mapslices(mean, chain1[(burn_in + 1):thinning:end, :], [1]);\n",
    "est1"
   ]
  },
  {
   "cell_type": "code",
   "execution_count": null,
   "metadata": {
    "collapsed": true
   },
   "outputs": [],
   "source": []
  }
 ],
 "metadata": {
  "kernelspec": {
   "display_name": "Julia 0.5.0",
   "language": "julia",
   "name": "julia-0.5"
  },
  "language_info": {
   "file_extension": ".jl",
   "mimetype": "application/julia",
   "name": "julia",
   "version": "0.5.0"
  }
 },
 "nbformat": 4,
 "nbformat_minor": 1
}
