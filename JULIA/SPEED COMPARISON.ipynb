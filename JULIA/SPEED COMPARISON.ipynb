{
 "cells": [
  {
   "cell_type": "code",
   "execution_count": 1,
   "metadata": {
    "collapsed": true
   },
   "outputs": [],
   "source": [
    "workspace()"
   ]
  },
  {
   "cell_type": "code",
   "execution_count": 3,
   "metadata": {
    "collapsed": false
   },
   "outputs": [],
   "source": [
    "using Distributions: pdf, rand, Uniform, Normal"
   ]
  },
  {
   "cell_type": "markdown",
   "metadata": {},
   "source": [
    "# FUNCTIONS\n",
    "The following are functions for Hamiltonian Monte Carlo (HMC) and Stochastic Gradient HMC."
   ]
  },
  {
   "cell_type": "code",
   "execution_count": 4,
   "metadata": {
    "collapsed": false
   },
   "outputs": [],
   "source": [
    "include(joinpath(homedir(), \"Dropbox/MS THESIS/JULIA/HMC.jl\"));\n",
    "include(joinpath(homedir(), \"Dropbox/MS THESIS/JULIA/SG HMC.jl\"));"
   ]
  },
  {
   "cell_type": "code",
   "execution_count": 5,
   "metadata": {
    "collapsed": false
   },
   "outputs": [],
   "source": [
    "potential(x::AbstractArray{Float64}; μ::AbstractArray{Float64} = [10.; 10], Σ::AbstractArray{Float64} = eye(2)) = (x - μ)' * (Σ)^(-1) * (x - μ);\n",
    "dpotential(x::AbstractArray{Float64}; μ::AbstractArray{Float64} = [10.; 10], Σ::AbstractArray{Float64} = eye(2)) = (Σ)^(-1) * (x - μ);\n",
    "kinetic(p::AbstractArray{Float64}; Σ::Array{Float64} = eye(length(p))) = (p' * inv(Σ) * p) / 2;\n",
    "dkinetic(p::AbstractArray{Float64}; Σ::Array{Float64} = eye(length(p))) = inv(Σ) * p;"
   ]
  },
  {
   "cell_type": "markdown",
   "metadata": {},
   "source": [
    "HAMILTONIAN MONTE CARLO"
   ]
  },
  {
   "cell_type": "code",
   "execution_count": 6,
   "metadata": {
    "collapsed": false
   },
   "outputs": [
    {
     "name": "stdout",
     "output_type": "stream",
     "text": [
      "  2.780639 seconds (3.50 M allocations: 164.595 MB, 1.71% gc time)\n"
     ]
    }
   ],
   "source": [
    "HMC_object = HMC(potential, kinetic, dpotential, dkinetic, [0; 0], 2);\n",
    "@time weights = hmc(HMC_object);"
   ]
  },
  {
   "cell_type": "code",
   "execution_count": 7,
   "metadata": {
    "collapsed": false
   },
   "outputs": [
    {
     "data": {
      "text/plain": [
       "1×2 Array{Float64,2}:\n",
       " 9.94559  9.51106"
      ]
     },
     "execution_count": 7,
     "metadata": {},
     "output_type": "execute_result"
    }
   ],
   "source": [
    "mapslices(mean, weights, [1])"
   ]
  },
  {
   "cell_type": "markdown",
   "metadata": {},
   "source": [
    "STOCHASTIC GRADIENT HAMILTONIAN MONTE CARLO"
   ]
  },
  {
   "cell_type": "code",
   "execution_count": 8,
   "metadata": {
    "collapsed": false
   },
   "outputs": [
    {
     "name": "stdout",
     "output_type": "stream",
     "text": [
      "  1.444521 seconds (2.16 M allocations: 110.469 MB, 1.76% gc time)\n"
     ]
    }
   ],
   "source": [
    "SGHMC_object = SGHMC(dpotential, dkinetic, eye(2), eye(2), eye(2), [0; 0], 2);\n",
    "@time weights1 = sghmc(SGHMC_object);"
   ]
  },
  {
   "cell_type": "code",
   "execution_count": 9,
   "metadata": {
    "collapsed": false
   },
   "outputs": [
    {
     "data": {
      "text/plain": [
       "1×2 Array{Float64,2}:\n",
       " 9.88426  9.82768"
      ]
     },
     "execution_count": 9,
     "metadata": {},
     "output_type": "execute_result"
    }
   ],
   "source": [
    "# Plot the Samples\n",
    "mapslices(mean, weights1, [1])"
   ]
  },
  {
   "cell_type": "code",
   "execution_count": 18,
   "metadata": {
    "collapsed": false
   },
   "outputs": [
    {
     "data": {
      "text/plain": [
       "1×2 Array{Float64,2}:\n",
       " 9.88426  9.82768"
      ]
     },
     "execution_count": 18,
     "metadata": {},
     "output_type": "execute_result"
    }
   ],
   "source": [
    "# Plot the Samples\n",
    "mapslices(mean, weights1, [1])"
   ]
  },
  {
   "cell_type": "code",
   "execution_count": null,
   "metadata": {
    "collapsed": false
   },
   "outputs": [],
   "source": []
  },
  {
   "cell_type": "markdown",
   "metadata": {},
   "source": [
    "II. BAYESIAN LINEAR REGRESSION"
   ]
  },
  {
   "cell_type": "code",
   "execution_count": 64,
   "metadata": {
    "collapsed": true
   },
   "outputs": [],
   "source": [
    "# The log likelihood function is given by the following codes:\n",
    "function loglike(theta::Array{Float64}; alpha::Float64 = alpha, x::Array{Float64} = x, y::Array{Float64} = y)\n",
    "  yhat = theta[1] + theta[2]*x\n",
    "\"\"\"\n",
    "STOCHASTIC GRADIENT HAMILTONIAN MONTE CARLO\n",
    "\n",
    "The following codes explore the use of SGHMC for Bayesian Inference\n",
    "\"\"\"\n",
    "immutable SGHMC\n",
    "  dU      ::Function\n",
    "  dK      ::Function\n",
    "  dKΣ     ::Array{Float64}\n",
    "  C       ::Array{Float64}\n",
    "  V       ::Array{Float64}\n",
    "  init_est::Array{Float64}\n",
    "  d       ::Int64\n",
    "end\n",
    "\n",
    "function sghmc(Parameters::SGHMC;\n",
    "  leapfrog_params::Dict{Symbol, Real} = Dict([:ɛ => .05, :τ => 20]),\n",
    "  set_seed::Int64 = 123,\n",
    "  r::Int64 = 1000)\n",
    "\n",
    "  dU, dK, dKΣ, C, V, w, d = Parameters.dU, Parameters.dK, Parameters.dKΣ, Parameters.C, Parameters.V, Parameters.init_est, Parameters.d\n",
    "  ɛ, τ = leapfrog_params[:ɛ], leapfrog_params[:τ]\n",
    "\n",
    "  if typeof(set_seed) == Int64\n",
    "    srand(set_seed)\n",
    "  end\n",
    "\n",
    "  x = zeros(r, d);\n",
    "  B = .5 * V * ɛ\n",
    "  D = sqrt(2 * (C - B) * ɛ)\n",
    "  if size(B) != size(C)\n",
    "    error(\"C and V should have the same dimension.\")\n",
    "  else\n",
    "    if sum(size(B)) > 1\n",
    "      if det(B) > det(C)\n",
    "        error(\"ɛ is too big. Consider decreasing it.\")\n",
    "      end\n",
    "    else\n",
    "      if det(B[1]) > det(C[1])\n",
    "        error(\"ɛ is too big. Consider decreasing it.\")\n",
    "      end\n",
    "    end\n",
    "  end\n",
    "\n",
    "  for i in 1:r\n",
    "    p = randn(d, 1)\n",
    "\n",
    "    for j in 1:τ\n",
    "      p = p - dU(w) * ɛ - C * inv(dKΣ) * p + D * randn(d, 1);\n",
    "      w = w + dK(p) * ɛ;\n",
    "    end\n",
    "\n",
    "    x[i, :] = w\n",
    "  end\n",
    "\n",
    "  return x\n",
    "end\n",
    "\n",
    "\n",
    "  likhood = Float64[]\n",
    "  for i in 1:length(yhat)\n",
    "    push!(likhood, pdf(Normal(yhat[i], alpha), y[i]))\n",
    "  end\n",
    "\n",
    "  return likhood |> sum\n",
    "end\n",
    "\n",
    "# Define the log prior and lo posterior\n",
    "function logprior(theta::Array{Float64}; mu::Array{Float64} = mu, s::Array{Float64} = s)\n",
    "  w0_prior = log(pdf(Normal(mu[1, 1], s[1, 1]), theta[1]))\n",
    "  w1_prior = log(pdf(Normal(mu[2, 1], s[2, 2]), theta[2]))\n",
    "   w_prior = [w0_prior w1_prior]\n",
    "\n",
    "  return w_prior |> sum\n",
    "end\n",
    "\n",
    "function logpost(theta::Array{Float64})\n",
    "  loglike(theta, alpha = alpha, x = x, y = y) + logprior(theta, mu = mu, s = s)\n",
    "end\n",
    "\n",
    "U(theta::Array{Float64}) = - logpost(theta)\n",
    "K(p::Array{Float64}; Σ = eye(length(p))) = (p' * inv(Σ) * p) / 2\n",
    "function dPotential(theta::Array{Float64}; alpha::Float64 = 1/5., b::Float64 = 2.)\n",
    "  [-alpha * sum(y - (theta[1] + theta[2] * x));\n",
    "   -alpha * sum((y - (theta[1] + theta[2] * x)) .* x)] + b * theta\n",
    "end\n",
    "function dPotential_noise(theta::Array{Float64}; alpha::Float64 = 1/5., b::Float64 = 2.)\n",
    "  [-alpha * sum(y - (theta[1] + theta[2] * x));\n",
    "   -alpha * sum((y - (theta[1] + theta[2] * x)) .* x)] + b * theta + randn(2,1)\n",
    "end\n",
    "dKinetic(p::AbstractArray{Float64}; Σ::Array{Float64} = eye(length(p))) = inv(Σ) * p;"
   ]
  },
  {
   "cell_type": "code",
   "execution_count": 65,
   "metadata": {
    "collapsed": false
   },
   "outputs": [
    {
     "data": {
      "text/plain": [
       "2×2 Array{Float64,2}:\n",
       " 0.25  0.0 \n",
       " 0.0   0.25"
      ]
     },
     "execution_count": 65,
     "metadata": {},
     "output_type": "execute_result"
    }
   ],
   "source": [
    "srand(123);\n",
    "w0 = .2; w1 = -.9; stdev = 5.;\n",
    "\n",
    "# Define data parameters\n",
    "alpha = 1 / stdev; # for likelihood\n",
    "\n",
    "# Generate Hypothetical Data\n",
    "n = 5000;\n",
    "x = rand(Uniform(-1, 1), n);\n",
    "A = [ones(length(x)) x];\n",
    "B = [w0; w1];\n",
    "f = A * B;\n",
    "y = f + rand(Normal(0, alpha), n);\n",
    "\n",
    "# Define Hyperparameters\n",
    "Imat = diagm(ones(2), 0);\n",
    "b = 2.; # for prior\n",
    "b1 = (1 / b)^2; # Square this since in Julia, rnorm uses standard dev\n",
    "\n",
    "mu = zeros(2); # for prior\n",
    "s = b1 * Imat; # for prior"
   ]
  },
  {
   "cell_type": "markdown",
   "metadata": {},
   "source": [
    "HAMILTONIAN MONTE CARLO"
   ]
  },
  {
   "cell_type": "code",
   "execution_count": 66,
   "metadata": {
    "collapsed": false
   },
   "outputs": [
    {
     "name": "stdout",
     "output_type": "stream",
     "text": [
      " 72.868762 seconds (21.91 M allocations: 109.093 GB, 22.47% gc time)\n"
     ]
    }
   ],
   "source": [
    "HMC_object2 = HMC(U, K, dPotential, dKinetic, zeros(2, 1), 2);\n",
    "\n",
    "# Sample\n",
    "@time weights = hmc(HMC_object2, leapfrog_params = Dict([:ɛ => .009, :τ => 20]), r = 10000);"
   ]
  },
  {
   "cell_type": "code",
   "execution_count": 67,
   "metadata": {
    "collapsed": false
   },
   "outputs": [
    {
     "data": {
      "text/plain": [
       "1×2 Array{Float64,2}:\n",
       " 0.202044  -0.889579"
      ]
     },
     "execution_count": 67,
     "metadata": {},
     "output_type": "execute_result"
    }
   ],
   "source": [
    "# Plot the Samples\n",
    "mapslices(mean, weights, [1])"
   ]
  },
  {
   "cell_type": "markdown",
   "metadata": {},
   "source": [
    "STOCHASTIC HAMILTONIAN MONTE CARLO"
   ]
  },
  {
   "cell_type": "code",
   "execution_count": 68,
   "metadata": {
    "collapsed": false
   },
   "outputs": [
    {
     "name": "stdout",
     "output_type": "stream",
     "text": [
      " 35.187967 seconds (19.45 M allocations: 53.039 GB, 19.85% gc time)\n"
     ]
    }
   ],
   "source": [
    "SGHMC_object = SGHMC(dPotential_noise, dKinetic, eye(2), eye(2), eye(2), [0; 0], 2.);\n",
    "\n",
    "@time weights1 = sghmc(SGHMC_object, leapfrog_params = Dict([:ɛ => .009, :τ => 20]), r = 10000);"
   ]
  },
  {
   "cell_type": "code",
   "execution_count": 26,
   "metadata": {
    "collapsed": false
   },
   "outputs": [
    {
     "name": "stdout",
     "output_type": "stream",
     "text": [
      "[0.203508 -0.892442]"
     ]
    }
   ],
   "source": [
    "mapslices(mean, weights1[(!isnan(weights1[:, 1]) |> find), :], [1])"
   ]
  }
 ],
 "metadata": {
  "anaconda-cloud": {},
  "kernelspec": {
   "display_name": "Julia 0.5.0",
   "language": "julia",
   "name": "julia-0.5"
  },
  "language_info": {
   "file_extension": ".jl",
   "mimetype": "application/julia",
   "name": "julia",
   "version": "0.5.0"
  }
 },
 "nbformat": 4,
 "nbformat_minor": 1
}
