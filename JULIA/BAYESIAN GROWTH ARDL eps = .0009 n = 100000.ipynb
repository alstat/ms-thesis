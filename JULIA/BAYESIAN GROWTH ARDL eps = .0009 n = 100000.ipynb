{
 "cells": [
  {
   "cell_type": "markdown",
   "metadata": {},
   "source": [
    "# BADL-SGHMC FOR FORECASTING PHILIPPINE ECONOMIC GROWTH (E = .0009 R = 100000)"
   ]
  },
  {
   "cell_type": "markdown",
   "metadata": {},
   "source": [
    "<table align = \"left\">\n",
    "<tr><td>author</td><td>AL-AHMADGAID B. ASAAD</td></tr>\n",
    "<tr><td>thesis</td><td>Bayesian Autoregressive Distributed Lag *via* Stochastic Gradient Hamiltonian Monte Carlo</td></tr>\n",
    "<tr><td>degree</td><td>Master of Science in Statistics</td></tr>\n",
    "</table>\n"
   ]
  },
  {
   "cell_type": "code",
   "execution_count": 1,
   "metadata": {
    "collapsed": false
   },
   "outputs": [
    {
     "name": "stderr",
     "output_type": "stream",
     "text": [
      "WARNING: Method definition describe(AbstractArray) in module StatsBase at C:\\Users\\Al Asaad\\.julia\\v0.5\\StatsBase\\src\\scalarstats.jl:573 overwritten in module DataFrames at C:\\Users\\Al Asaad\\.julia\\v0.5\\DataFrames\\src\\abstractdataframe\\abstractdataframe.jl:407"
     ]
    }
   ],
   "source": [
    "using DataFrames\n",
    "using Distributions\n",
    "using Gadfly\n",
    "using StochMCMC\n",
    "Gadfly.push_theme(:dark)"
   ]
  },
  {
   "cell_type": "code",
   "execution_count": 2,
   "metadata": {
    "collapsed": false
   },
   "outputs": [],
   "source": [
    "in_dir = joinpath(homedir(), \"Dropbox/MS THESIS/JULIA/INPUT\");\n",
    "ou_Rdir = joinpath(homedir(), \"Dropbox/MS THESIS/R/INPUT/PLOT\");\n",
    "lei_data = readtable(joinpath(in_dir, \"SA RAW DATA W BOP.csv\"));\n",
    "\n",
    "lei_growth = lei_growth_std = zeros(nrow(lei_data) - 4, ncol(lei_data) - 1);"
   ]
  },
  {
   "cell_type": "code",
   "execution_count": 3,
   "metadata": {
    "collapsed": false
   },
   "outputs": [],
   "source": [
    "for j in 2:ncol(lei_data)\n",
    "    for i in 5:nrow(lei_data)\n",
    "        lei_growth[i - 4, j - 1] = ((lei_data[j][i] - lei_data[j][i - 4]) / lei_data[j][i - 4]) * 100;\n",
    "    end\n",
    "    lei_growth_std[:, j - 1] = round((lei_growth[:, j - 1] - mean(lei_growth[:, j - 1])) ./ std(lei_growth[:, j - 1]), 3);\n",
    "end\n",
    "\n",
    "lei_df = DataFrame(lei_growth_std);\n",
    "indicators =  DataFrame(lei_df);\n",
    "\n",
    "#writetable(joinpath(ou_Rdir, \"SA GDP GROWTH.csv\"), lei_df)"
   ]
  },
  {
   "cell_type": "code",
   "execution_count": 4,
   "metadata": {
    "collapsed": false
   },
   "outputs": [],
   "source": [
    "\n",
    "lei_df = DataFrame(lei_growth_std);\n",
    "indicators =  DataFrame(lei_df);\n",
    "\n"
   ]
  },
  {
   "cell_type": "markdown",
   "metadata": {},
   "source": [
    "### Function for RMSE\n"
   ]
  },
  {
   "cell_type": "code",
   "execution_count": 5,
   "metadata": {
    "collapsed": false
   },
   "outputs": [
    {
     "data": {
      "text/plain": [
       "rmse (generic function with 1 method)"
      ]
     },
     "execution_count": 5,
     "metadata": {},
     "output_type": "execute_result"
    }
   ],
   "source": [
    "function rmse(true_value::Array{Float64}, estimated_value::Array{Float64})\n",
    "  sqrt((1 / length(true_value)) * sum((true_value - estimated_value) .^ 2))\n",
    "end"
   ]
  },
  {
   "cell_type": "markdown",
   "metadata": {},
   "source": [
    "## a. PRELIMINARIES\n",
    "The following involves preparation of the data and the lag values of the dependent and predictors."
   ]
  },
  {
   "cell_type": "markdown",
   "metadata": {},
   "source": [
    "### a1. Data Partitioning"
   ]
  },
  {
   "cell_type": "code",
   "execution_count": 6,
   "metadata": {
    "collapsed": false
   },
   "outputs": [],
   "source": [
    "# TRAINING\n",
    "n_percent = .7\n",
    "n_train = Int(nrow(indicators) * n_percent |> floor)\n",
    "x = Array(indicators[1:n_train, 2:ncol(indicators)]);\n",
    "y = Array(indicators[1:n_train, 1]);\n",
    "\n",
    "# Testing\n",
    "x_test = Array(indicators[(n_train + 1):end, 2:ncol(indicators)]);\n",
    "y_test = Array(indicators[(n_train + 1):end, 1]);"
   ]
  },
  {
   "cell_type": "code",
   "execution_count": 7,
   "metadata": {
    "collapsed": false
   },
   "outputs": [],
   "source": [
    "series = DataFrame(Y = y);\n",
    "#=\n",
    "p = plot(series, y = :Y, Geom.line, Guide.ylabel(\"Reference Series\"))\n",
    "p\n",
    "=#"
   ]
  },
  {
   "cell_type": "markdown",
   "metadata": {},
   "source": [
    "### a2. Define lag values of Ys and Xs"
   ]
  },
  {
   "cell_type": "code",
   "execution_count": 8,
   "metadata": {
    "collapsed": true
   },
   "outputs": [],
   "source": [
    "y_1 = [mean(y[1:(end - 1)]); y[1:(end - 1)]];\n",
    "x_1 = [mapslices(mean, x[1:(end - 1), :], [1]); x[1:(end - 1), :]];\n",
    "n_params = 1 + length(size(y_1)) + size(x)[2] + size(x_1)[2]\n",
    "\n",
    "y_1test = [mean(y_test[1:(end - 1)]); y_test[1:(end - 1)]];\n",
    "x_1test = [mapslices(mean, x_test[1:(end - 1), :], [1]); x_test[1:(end - 1), :]];"
   ]
  },
  {
   "cell_type": "markdown",
   "metadata": {},
   "source": [
    "### a3. Define log Prior, log Likelihood and log Posterior"
   ]
  },
  {
   "cell_type": "code",
   "execution_count": 9,
   "metadata": {
    "collapsed": false
   },
   "outputs": [
    {
     "data": {
      "text/plain": [
       "logpost"
      ]
     },
     "execution_count": 9,
     "metadata": {},
     "output_type": "execute_result"
    }
   ],
   "source": [
    "\"\"\"\n",
    "The log likelihood function is given by the following codes:\n",
    "\"\"\"\n",
    "function loglike(theta::Array{Float64})\n",
    "  yhat = theta[1] + theta[2] * y_1\n",
    "  for i in 1:(size(x)[2])\n",
    "    yhat += theta[i + 2] * x[:, i] + theta[i + 2 + size(x)[2]] * x_1[:, i]\n",
    "  end\n",
    "\n",
    "  likhood = Float64[]\n",
    "  for i in 1:length(yhat)\n",
    "    push!(likhood, log(pdf(Normal(yhat[i], alpha), y[i])))\n",
    "  end\n",
    "\n",
    "  return likhood |> sum\n",
    "end\n",
    "\n",
    "\"\"\"\n",
    "Define the Prior Distribution\n",
    "\"\"\"\n",
    "function logprior(theta::Array{Float64})\n",
    "  w_prior = [log(pdf(Normal(mu[i], s[i]), theta[i])) for i in 1:(n_params)]\n",
    "\n",
    "  return w_prior |> sum\n",
    "end\n",
    "\n",
    "\"\"\"\n",
    "Define the Posterior Distribution\n",
    "\"\"\"\n",
    "function logpost(theta::Array{Float64})\n",
    "  loglike(theta) + logprior(theta)\n",
    "end"
   ]
  },
  {
   "cell_type": "markdown",
   "metadata": {},
   "source": [
    "Define Necesarry Parameters"
   ]
  },
  {
   "cell_type": "code",
   "execution_count": 10,
   "metadata": {
    "collapsed": false
   },
   "outputs": [],
   "source": [
    "alpha = 1 / 5.;\n",
    "mu = zeros(n_params);\n",
    "s = ones(n_params);\n",
    "n_chain = 4;\n",
    "R = 100000;\n",
    "eps = .0009;"
   ]
  },
  {
   "cell_type": "markdown",
   "metadata": {},
   "source": [
    "## b. METROPOLIS-HASTING"
   ]
  },
  {
   "cell_type": "code",
   "execution_count": 11,
   "metadata": {
    "collapsed": false
   },
   "outputs": [],
   "source": [
    "chain1 = Dict{Symbol, Array{Float64}}()\n",
    "\n",
    "srand(123);\n",
    "for i in 1:n_chain\n",
    "  init_val = rand(Uniform(.001 + (i - 1) / 4, i / 4), n_params)\n",
    "  mh_object = MH(logpost; init_est = init_val, d = n_params);\n",
    "  chain1[Symbol(\"Realization_\" * string(i))] = mcmc(mh_object, r = R);\n",
    "end"
   ]
  },
  {
   "cell_type": "code",
   "execution_count": 12,
   "metadata": {
    "collapsed": true
   },
   "outputs": [],
   "source": [
    "for i in 1:n_chain\n",
    "    writetable(joinpath(ou_Rdir, \"MH Chain Eps = .0009 R = 100000 \" * string(i) * \".csv\"), DataFrame(chain1[Symbol(\"Realization_\" * string(i))]))\n",
    "end"
   ]
  },
  {
   "cell_type": "markdown",
   "metadata": {},
   "source": [
    "### b1. Plot: Training Data"
   ]
  },
  {
   "cell_type": "code",
   "execution_count": 13,
   "metadata": {
    "collapsed": false
   },
   "outputs": [],
   "source": [
    "\"\"\"\n",
    "Plot it\n",
    "\"\"\"\n",
    "series = DataFrame(Y = y);\n",
    "burnIn = 10;\n",
    "stepsize = 10;\n",
    "\n",
    "# Training Data\n",
    "chain1_ave = zeros(R, n_params);\n",
    "for i in 1:R\n",
    "  chain1_vec = [chain1[collect(keys(chain1))[1]][i, :] chain1[collect(keys(chain1))[2]][i, :] chain1[collect(keys(chain1))[3]][i, :] chain1[collect(keys(chain1))[4]][i, :]]'\n",
    "  chain1_ave[i, :] = mapslices(mean, chain1_vec, [1])\n",
    "end\n",
    "\n",
    "est1 = mapslices(mean, chain1_ave, [1]);\n",
    "std1 = mapslices(std, chain1_ave, [1]);\n",
    "\n",
    "writetable(joinpath(ou_Rdir, \"MH Chain Ave Eps = .0009 R = 100000.csv\"), DataFrame(chain1_ave))"
   ]
  },
  {
   "cell_type": "code",
   "execution_count": 14,
   "metadata": {
    "collapsed": false
   },
   "outputs": [],
   "source": [
    "yhat = est1[1] + est1[2] * y_1\n",
    "for i in 1:(size(x)[2])\n",
    "  yhat += est1[i + 2] * x[:, i] + est1[i + 2 + size(x)[2]] * x_1[:, i]\n",
    "end\n",
    "\n",
    "yhat_std = (yhat - mean(yhat)) / std(yhat)\n",
    "\n",
    "rmse_ch1_train = rmse(y, yhat_std)\n",
    "series[:yhat_std] = yhat_std;\n",
    "\n",
    "#=\n",
    "plot(layer(series, y = :Y, Geom.line, style(default_color = colorant\"orange\")),\n",
    "     layer(series, y = :yhat_std, Geom.line, style(default_color = colorant\"red\")))\n",
    "=#"
   ]
  },
  {
   "cell_type": "code",
   "execution_count": 15,
   "metadata": {
    "collapsed": false
   },
   "outputs": [],
   "source": [
    "for i in (burnIn + 1):stepsize:size(chain1_ave)[1]\n",
    "  yhat = chain1_ave[i, 1] + chain1_ave[i, 2] * y_1\n",
    "  for j in 1:(size(x)[2])\n",
    "    yhat += chain1_ave[i, j + 2] * x[:, j] + chain1_ave[i, j + 2 + size(x)[2]] * x_1[:, j]\n",
    "  end\n",
    "\n",
    "  series[Symbol(\"yhat_std_\", string(i))] = (yhat - mean(yhat)) / std(yhat);\n",
    "end\n",
    "\n",
    "series_stacked = DataFrame(\n",
    "  x = repeat(collect(1:nrow(series)), outer = size(chain1_ave[(burnIn + 1):stepsize:end, :])[1]),\n",
    "  var = Array(stack(series[:, 3:end])[1]),\n",
    "  val = Array(stack(series[:, 3:end])[2])\n",
    "  );"
   ]
  },
  {
   "cell_type": "code",
   "execution_count": 16,
   "metadata": {
    "collapsed": false
   },
   "outputs": [],
   "source": [
    "writetable(joinpath(ou_Rdir, \"MH Train Out Eps = .0009 R = 100000.csv\"), series)\n",
    "\n",
    "#=\n",
    "p2_mhi = plot(layer(series, y = :Y, Geom.line, style(default_color = colorant\"orange\")),\n",
    "     layer(series, y = :yhat_std, Geom.line, style(default_color = colorant\"red\")),\n",
    "     layer(series_stacked, x = :x, y = :val, group = :var, Geom.line, style(default_color = colorant\"black\")),\n",
    "     Guide.xlabel(\"Time\"), Guide.ylabel(\"CLEI and Reference Series\")\n",
    ")\n",
    "=#"
   ]
  },
  {
   "cell_type": "markdown",
   "metadata": {},
   "source": [
    "### b2. Plot: Testing Data"
   ]
  },
  {
   "cell_type": "code",
   "execution_count": 17,
   "metadata": {
    "collapsed": false
   },
   "outputs": [],
   "source": [
    "# Testing Data\n",
    "yhat = est1[1] + est1[2] * y_1test\n",
    "for i in 1:(size(x)[2])\n",
    "  yhat += est1[i + 2] * x_test[:, i] + est1[i + 2 + size(x)[2]] * x_1test[:, i]\n",
    "end\n",
    "\n",
    "yhat_std = (yhat - mean(yhat)) / std(yhat)\n",
    "\n",
    "rmse_ch1 = rmse(y_test, yhat_std)\n",
    "\n",
    "series_test = DataFrame(Y = Array(indicators[:, 1]));\n",
    "series_test[:yhat_std] = [y; yhat_std];\n",
    "\n",
    "#=\n",
    "plot(layer(series_test, y = :Y, Geom.line, style(default_color = colorant\"orange\")),\n",
    "     layer(series_test, y = :yhat_std, Geom.line, style(default_color = colorant\"red\"))\n",
    ")\n",
    "=#"
   ]
  },
  {
   "cell_type": "code",
   "execution_count": 18,
   "metadata": {
    "collapsed": false
   },
   "outputs": [],
   "source": [
    "for i in (burnIn + 1):stepsize:size(chain1_ave)[1]\n",
    "  yhat = chain1_ave[i, 1] + chain1_ave[i, 2] * y_1test\n",
    "  for j in 1:(size(x)[2])\n",
    "    yhat += chain1_ave[i, j + 2] * x_test[:, j] + chain1_ave[i, j + 2 + size(x)[2]] * x_1test[:, j]\n",
    "  end\n",
    "\n",
    "  series_test[Symbol(\"yhat_std_\", string(i))] = [y; (yhat - mean(yhat)) / std(yhat)];\n",
    "end\n",
    "\n",
    "series_stacked = DataFrame(\n",
    "  x = repeat(collect(1:nrow(series_test)), outer = size(chain1_ave[(burnIn + 1):stepsize:end, :])[1]),\n",
    "  var = Array(stack(series_test[:, 3:end])[1]),\n",
    "  val = Array(stack(series_test[:, 3:end])[2])\n",
    "  );\n",
    "\n",
    "writetable(joinpath(ou_Rdir, \"MH Test Out Eps = .0009 R = 100000.csv\"), series_test)\n",
    "\n",
    "#=\n",
    "plot(layer(series_test, y = :Y, Geom.line, style(default_color = colorant\"orange\")),\n",
    "     layer(series_test, y = :yhat_std, Geom.line, style(default_color = colorant\"red\")),\n",
    "     layer(series_stacked, x = :x, y = :val, group = :var, Geom.line, style(default_color = colorant\"black\")),\n",
    "     Guide.xlabel(\"Time\"), Guide.ylabel(\"Growth Rate\")\n",
    ")\n",
    "=#"
   ]
  },
  {
   "cell_type": "markdown",
   "metadata": {},
   "source": [
    "## c. HAMILTONIAN MONTE CARLO"
   ]
  },
  {
   "cell_type": "code",
   "execution_count": 19,
   "metadata": {
    "collapsed": false
   },
   "outputs": [
    {
     "data": {
      "text/plain": [
       "Dict{Symbol,Array{Float64,N}} with 0 entries"
      ]
     },
     "execution_count": 19,
     "metadata": {},
     "output_type": "execute_result"
    }
   ],
   "source": [
    "U(theta::Array{Float64}) = - logpost(theta)\n",
    "K(p::Array{Float64}; Σ = eye(length(p))) = (p' * inv(Σ) * p) / 2\n",
    "function dU(theta::Array{Float64})\n",
    "  yhat = theta[1] + theta[2] * y_1\n",
    "  for i in 1:(size(x)[2])\n",
    "    yhat += theta[i + 2] * x[:, i] + theta[i + 2 + size(x)[2]] * x_1[:, i]\n",
    "  end\n",
    "  vcat(\n",
    "      [-alpha * sum((y - yhat)) + s[1] * theta[1]],\n",
    "      [-alpha * sum((y - yhat) .* y_1) + s[1] * theta[1]],\n",
    "      [-alpha * sum((y - yhat) .* x[:, i]) + s[i + 1] * theta[i + 1] for i in 1:size(x)[2]],\n",
    "      [-alpha * sum((y - yhat) .* x_1[:, i]) + s[i + 2 + size(x)[2]] * theta[i + 2 + size(x)[2]] for i in 1:size(x)[2]]\n",
    "  )\n",
    "end\n",
    "dK(p::Array{Float64}; Σ::Array{Float64} = eye(length(p))) = inv(Σ) * p;\n",
    "\n",
    "chain2 = Dict{Symbol, Array{Float64}}()"
   ]
  },
  {
   "cell_type": "code",
   "execution_count": 20,
   "metadata": {
    "collapsed": false
   },
   "outputs": [],
   "source": [
    "srand(123);\n",
    "for i in 1:n_chain\n",
    "  init_val = rand(Uniform(.001 + (i - 1) / 4, i / 4), n_params)\n",
    "  HMC_object = HMC(U, K, dU, dK, init_val, n_params);\n",
    "  chain2[Symbol(\"Realization_\" * string(i))] = mcmc(HMC_object, leapfrog_params = Dict([:ɛ => eps, :τ => 20]), r = R);\n",
    "end"
   ]
  },
  {
   "cell_type": "code",
   "execution_count": 21,
   "metadata": {
    "collapsed": true
   },
   "outputs": [],
   "source": [
    "for i in 1:n_chain\n",
    "    writetable(joinpath(ou_Rdir, \"HMC Chain Eps = .0009 R = 100000 \" * string(i) * \".csv\"), DataFrame(chain2[Symbol(\"Realization_\" * string(i))]))\n",
    "end"
   ]
  },
  {
   "cell_type": "markdown",
   "metadata": {},
   "source": [
    "### c1. Plot: Training"
   ]
  },
  {
   "cell_type": "code",
   "execution_count": 22,
   "metadata": {
    "collapsed": false
   },
   "outputs": [
    {
     "name": "stderr",
     "output_type": "stream",
     "text": [
      "\u001b[1m\u001b[31mWARNING: replacing docs for 'series :: Union{}' in module 'Main'.\u001b[0m\n"
     ]
    }
   ],
   "source": [
    "\"\"\"\n",
    "Plot it\n",
    "\"\"\"\n",
    "series = DataFrame(Y = y);\n",
    "burnIn = 10;\n",
    "stepsize = 10;\n",
    "\n",
    "# Training Data\n",
    "\n",
    "chain2_ave = zeros(R, n_params);\n",
    "for i in 1:R\n",
    "  chain2_vec = [chain2[collect(keys(chain2))[1]][i, :] chain2[collect(keys(chain2))[2]][i, :] chain2[collect(keys(chain2))[3]][i, :] chain2[collect(keys(chain2))[4]][i, :]]'\n",
    "  chain2_ave[i, :] = mapslices(mean, chain2_vec, [1])\n",
    "end\n",
    "\n",
    "est2 = mapslices(mean, chain2_ave, [1]);\n",
    "std2 = mapslices(std, chain2_ave, [1]);\n",
    "\n",
    "writetable(joinpath(ou_Rdir, \"HMC Chain Ave Eps = .0009 R = 100000.csv\"), DataFrame(chain2_ave))"
   ]
  },
  {
   "cell_type": "code",
   "execution_count": 23,
   "metadata": {
    "collapsed": false
   },
   "outputs": [],
   "source": [
    "yhat = est2[1] + est2[2] * y_1\n",
    "for i in 1:(size(x)[2])\n",
    "  yhat += est2[i + 2] * x[:, i] + est2[i + 2 + size(x)[2]] * x_1[:, i]\n",
    "end\n",
    "\n",
    "yhat_std = (yhat - mean(yhat)) / std(yhat)\n",
    "rmse_ch2_train = rmse(y, yhat_std)\n",
    "series[:yhat_std] = yhat_std;\n",
    "\n",
    "#=\n",
    "plot(layer(series, y = :Y, Geom.line, style(default_color = colorant\"orange\")),\n",
    "     layer(series, y = :yhat_std, Geom.line, style(default_color = colorant\"red\"))\n",
    ")\n",
    "=#"
   ]
  },
  {
   "cell_type": "code",
   "execution_count": 24,
   "metadata": {
    "collapsed": false
   },
   "outputs": [],
   "source": [
    "for i in (burnIn + 1):stepsize:size(chain2_ave)[1]\n",
    "  yhat = chain2_ave[i, 1] + chain2_ave[i, 2] * y_1\n",
    "  for j in 1:(size(x)[2])\n",
    "    yhat += chain2_ave[i, j + 2] * x[:, j] + chain2_ave[i, j + 2 + size(x)[2]] * x_1[:, j]\n",
    "  end\n",
    "\n",
    "  series[Symbol(\"yhat_std_\", string(i))] = (yhat - mean(yhat)) / std(yhat);\n",
    "end\n",
    "\n",
    "series_stacked = DataFrame(\n",
    "  x = repeat(collect(1:nrow(series)), outer = size(chain2_ave[(burnIn + 1):stepsize:end, :])[1]),\n",
    "  var = Array(stack(series[:, 3:end])[1]),\n",
    "  val = Array(stack(series[:, 3:end])[2])\n",
    "  );\n",
    "\n",
    "writetable(joinpath(ou_Rdir, \"HMC Train Out Eps = .0009 R = 100000.csv\"), series)\n",
    "\n",
    "#=\n",
    "plot(layer(series, y = :Y, Geom.line, style(default_color = colorant\"orange\")),\n",
    "     layer(series, y = :yhat_std, Geom.line, style(default_color = colorant\"red\")),\n",
    "     layer(series_stacked, x = :x, y = :val, group = :var, Geom.line, style(default_color = colorant\"black\")),\n",
    "     Guide.xlabel(\"Time\"), Guide.ylabel(\"CLEI and Reference Series\")\n",
    ")\n",
    "=#"
   ]
  },
  {
   "cell_type": "markdown",
   "metadata": {},
   "source": [
    "### c2. Plot: Testing"
   ]
  },
  {
   "cell_type": "code",
   "execution_count": 25,
   "metadata": {
    "collapsed": false
   },
   "outputs": [],
   "source": [
    "# Testing Data\n",
    "yhat = est2[1] + est2[2] * y_1test\n",
    "for i in 1:(size(x)[2])\n",
    "  yhat += est2[i + 2] * x_test[:, i] + est2[i + 2 + size(x)[2]] * x_1test[:, i]\n",
    "end\n",
    "\n",
    "yhat_std = (yhat - mean(yhat)) / std(yhat)\n",
    "\n",
    "rmse_ch2 = rmse(y_test, yhat_std)\n",
    "\n",
    "series_test = DataFrame(Y = Array(indicators[:, 1]));\n",
    "series_test[:yhat_std] = [y; yhat_std];\n",
    "\n",
    "#=\n",
    "plot(layer(series_test, y = :Y, Geom.line, style(default_color = colorant\"orange\")),\n",
    "     layer(series_test, y = :yhat_std, Geom.line, style(default_color = colorant\"red\"))\n",
    ")\n",
    "=#"
   ]
  },
  {
   "cell_type": "code",
   "execution_count": 26,
   "metadata": {
    "collapsed": false
   },
   "outputs": [],
   "source": [
    "for i in (burnIn + 1):stepsize:size(chain2_ave)[1]\n",
    "  yhat = chain2_ave[i, 1] + chain2_ave[i, 2] * y_1test\n",
    "  for j in 1:(size(x)[2])\n",
    "    yhat += chain2_ave[i, j + 2] * x_test[:, j] + chain2_ave[i, j + 2 + size(x)[2]] * x_1test[:, j]\n",
    "  end\n",
    "\n",
    "  series_test[Symbol(\"yhat_std_\", string(i))] = [y; (yhat - mean(yhat)) / std(yhat)];\n",
    "end\n",
    "\n",
    "series_stacked = DataFrame(\n",
    "  x = repeat(collect(1:nrow(series_test)), outer = size(chain2_ave[(burnIn + 1):stepsize:end, :])[1]),\n",
    "  var = Array(stack(series_test[:, 3:end])[1]),\n",
    "  val = Array(stack(series_test[:, 3:end])[2])\n",
    "  );\n",
    "\n",
    "writetable(joinpath(ou_Rdir, \"HMC Test Out Eps = .0009 R = 100000.csv\"), series_test)\n",
    "#=\n",
    "plot(layer(series_test, y = :Y, Geom.line, style(default_color = colorant\"orange\")),\n",
    "     layer(series_test, y = :yhat_std, Geom.line, style(default_color = colorant\"red\")),\n",
    "     layer(series_stacked, x = :x, y = :val, group = :var, Geom.line, style(default_color = colorant\"black\")),\n",
    "     Guide.xlabel(\"Time\"), Guide.ylabel(\"Growth Rate\")\n",
    ")\n",
    "=#"
   ]
  },
  {
   "cell_type": "markdown",
   "metadata": {},
   "source": [
    "## d. STOCHASTIC GRADIENT HAMILTONIAN MONTE CARLO"
   ]
  },
  {
   "cell_type": "code",
   "execution_count": 27,
   "metadata": {
    "collapsed": false
   },
   "outputs": [
    {
     "data": {
      "text/plain": [
       "dU_noise (generic function with 1 method)"
      ]
     },
     "execution_count": 27,
     "metadata": {},
     "output_type": "execute_result"
    }
   ],
   "source": [
    "function dU_noise(theta::Array{Float64})\n",
    "  yhat = theta[1] + theta[2] * y_1\n",
    "  for i in 1:(size(x)[2])\n",
    "    yhat += theta[i + 2] * x[:, i] + theta[i + 2 + size(x)[2]] * x_1[:, i]\n",
    "  end\n",
    "  vcat(\n",
    "      [-alpha * sum((y - yhat)) + s[1] * theta[1]],\n",
    "      [-alpha * sum((y - yhat) .* y_1) + s[1] * theta[1]],\n",
    "      [-alpha * sum((y - yhat) .* x[:, i]) + s[i + 1] * theta[i + 1] for i in 1:size(x)[2]],\n",
    "      [-alpha * sum((y - yhat) .* x_1[:, i]) + s[i + 2 + size(x)[2]] * theta[i + 2 + size(x)[2]] for i in 1:size(x)[2]]\n",
    "  ) + randn(n_params)\n",
    "end"
   ]
  },
  {
   "cell_type": "code",
   "execution_count": 28,
   "metadata": {
    "collapsed": true
   },
   "outputs": [],
   "source": [
    "srand(123);\n",
    "chain3 = Dict{Symbol, Array{Float64}}()\n",
    "for i in 1:n_chain\n",
    "  init_val = rand(Uniform(.001 + (i - 1) / 4, i / 4), n_params)\n",
    "  SGHMC_object = SGHMC(dU_noise, dK, eye(n_params), eye(n_params), eye(n_params), init_val, n_params * 1.);\n",
    "    chain3[Symbol(\"Realization_\" * string(i))] = mcmc(SGHMC_object, leapfrog_params = Dict([:ɛ => eps, :τ => 20]), r = R);\n",
    "end"
   ]
  },
  {
   "cell_type": "code",
   "execution_count": 29,
   "metadata": {
    "collapsed": true
   },
   "outputs": [],
   "source": [
    "for i in 1:n_chain\n",
    "    writetable(joinpath(ou_Rdir, \"SGHMC Chain Eps = .0009 R = 100000 \" * string(i) * \".csv\"), DataFrame(chain3[Symbol(\"Realization_\" * string(i))]))\n",
    "end"
   ]
  },
  {
   "cell_type": "code",
   "execution_count": 30,
   "metadata": {
    "collapsed": false
   },
   "outputs": [
    {
     "name": "stderr",
     "output_type": "stream",
     "text": [
      "\u001b[1m\u001b[31mWARNING: replacing docs for 'series :: Union{}' in module 'Main'.\u001b[0m\n"
     ]
    }
   ],
   "source": [
    "\"\"\"\n",
    "Plot it\n",
    "\"\"\"\n",
    "series = DataFrame(Y = y);\n",
    "burnIn = 10;\n",
    "stepsize = 10;\n",
    "\n",
    "# Training Data\n",
    "chain3_ave = zeros(R, n_params);\n",
    "for i in 1:R\n",
    "  chain3_vec = [chain3[collect(keys(chain3))[1]][i, :] chain3[collect(keys(chain3))[2]][i, :] chain3[collect(keys(chain3))[3]][i, :] chain3[collect(keys(chain3))[4]][i, :]]'\n",
    "  chain3_ave[i, :] = mapslices(mean, chain3_vec, [1])\n",
    "end\n",
    "\n",
    "est3 = mapslices(mean, chain3_ave, [1]);\n",
    "std3 = mapslices(std, chain3_ave, [1]);\n",
    "\n",
    "writetable(joinpath(ou_Rdir, \"SGHMC Chain Ave Eps = .0009 R = 100000.csv\"), DataFrame(chain3_ave))"
   ]
  },
  {
   "cell_type": "code",
   "execution_count": 31,
   "metadata": {
    "collapsed": false
   },
   "outputs": [],
   "source": [
    "yhat = est3[1] + est3[2] * y_1\n",
    "for i in 1:(size(x)[2])\n",
    "  yhat += est3[i + 2] * x[:, i] + est3[i + 2 + size(x)[2]] * x_1[:, i]\n",
    "end\n",
    "\n",
    "yhat_std = (yhat - mean(yhat)) / std(yhat)\n",
    "rmse_ch3_train = rmse(y, yhat_std)\n",
    "series[:yhat_std] = yhat_std;\n",
    "\n",
    "#=\n",
    "plot(layer(series, y = :Y, Geom.line, style(default_color = colorant\"orange\")),\n",
    "     layer(series, y = :yhat_std, Geom.line, style(default_color = colorant\"red\"))\n",
    ")\n",
    "=#"
   ]
  },
  {
   "cell_type": "code",
   "execution_count": 32,
   "metadata": {
    "collapsed": false
   },
   "outputs": [],
   "source": [
    "for i in (burnIn + 1):stepsize:size(chain3_ave)[1]\n",
    "  yhat = chain3_ave[i, 1] + chain3_ave[i, 2] * y_1\n",
    "  for j in 1:(size(x)[2])\n",
    "    yhat += chain3_ave[i, j + 2] * x[:, j] + chain3_ave[i, j + 2 + size(x)[2]] * x_1[:, j]\n",
    "  end\n",
    "\n",
    "  series[Symbol(\"yhat_std_\", string(i))] = (yhat - mean(yhat)) / std(yhat);\n",
    "end\n",
    "\n",
    "series_stacked = DataFrame(\n",
    "  x = repeat(collect(1:nrow(series)), outer = size(chain3_ave[(burnIn + 1):stepsize:end, :])[1]),\n",
    "  var = Array(stack(series[:, 3:end])[1]),\n",
    "  val = Array(stack(series[:, 3:end])[2])\n",
    "  );\n",
    "\n",
    "writetable(joinpath(ou_Rdir, \"SGHMC Train Out Eps = .0009 R = 100000.csv\"), series)\n",
    "#=\n",
    "plot(layer(series, y = :Y, Geom.line, style(default_color = colorant\"orange\")),\n",
    "     layer(series, y = :yhat_std, Geom.line, style(default_color = colorant\"red\")),\n",
    "     layer(series_stacked, x = :x, y = :val, group = :var, Geom.line, style(default_color = colorant\"black\")),\n",
    "     Guide.xlabel(\"Time\"), Guide.ylabel(\"CLEI and Reference Series\")\n",
    ")\n",
    "=#"
   ]
  },
  {
   "cell_type": "markdown",
   "metadata": {},
   "source": [
    "### d Plot: Testing"
   ]
  },
  {
   "cell_type": "code",
   "execution_count": 33,
   "metadata": {
    "collapsed": false
   },
   "outputs": [],
   "source": [
    "# Testing Data\n",
    "yhat = est3[1] + est3[2] * y_1test\n",
    "for i in 1:(size(x)[2])\n",
    "  yhat += est3[i + 2] * x_test[:, i] + est3[i + 2 + size(x)[2]] * x_1test[:, i]\n",
    "end\n",
    "\n",
    "yhat_std = (yhat - mean(yhat)) / std(yhat)\n",
    "\n",
    "rmse_ch3 = rmse(y_test, yhat_std)\n",
    "\n",
    "series_test = DataFrame(Y = Array(indicators[:, 1]));\n",
    "series_test[:yhat_std] = [y; yhat_std];\n",
    "\n",
    "#=\n",
    "plot(layer(series_test, y = :Y, Geom.line, style(default_color = colorant\"orange\")),\n",
    "     layer(series_test, y = :yhat_std, Geom.line, style(default_color = colorant\"red\"))\n",
    ")\n",
    "=#"
   ]
  },
  {
   "cell_type": "code",
   "execution_count": 34,
   "metadata": {
    "collapsed": false
   },
   "outputs": [],
   "source": [
    "for i in (burnIn + 1):stepsize:size(chain3_ave)[1]\n",
    "  yhat = chain3_ave[i, 1] + chain3_ave[i, 2] * y_1test\n",
    "  for j in 1:(size(x)[2])\n",
    "    yhat += chain3_ave[i, j + 2] * x_test[:, j] + chain3_ave[i, j + 2 + size(x)[2]] * x_1test[:, j]\n",
    "  end\n",
    "\n",
    "  series_test[Symbol(\"yhat_std_\", string(i))] = [y; (yhat - mean(yhat)) / std(yhat)];\n",
    "end\n",
    "\n",
    "series_stacked = DataFrame(\n",
    "  x = repeat(collect(1:nrow(series_test)), outer = size(chain3_ave[(burnIn + 1):stepsize:end, :])[1]),\n",
    "  var = Array(stack(series_test[:, 3:end])[1]),\n",
    "  val = Array(stack(series_test[:, 3:end])[2])\n",
    "  );\n",
    "\n",
    "writetable(joinpath(ou_Rdir, \"SGHMC Test Out Eps = .0009 R = 100000.csv\"), series_test)\n",
    "#=\n",
    "plot(layer(series_test, y = :Y, Geom.line, style(default_color = colorant\"orange\")),\n",
    "     layer(series_test, y = :yhat_std, Geom.line, style(default_color = colorant\"red\")),\n",
    "     layer(series_stacked, x = :x, y = :val, group = :var, Geom.line, style(default_color = colorant\"black\")),\n",
    "     Guide.xlabel(\"Time\"), Guide.ylabel(\"Growth Rate\")\n",
    ")\n",
    "=#"
   ]
  },
  {
   "cell_type": "code",
   "execution_count": 35,
   "metadata": {
    "collapsed": false
   },
   "outputs": [],
   "source": [
    "writetable(joinpath(ou_Rdir, \"Coefficients Eps = .0009 R = 100000.csv\"), DataFrame([round(est1, 3); round(std1, 3); round(est2, 3); round(std2, 3); round(est3, 3); round(std3, 3)]'));"
   ]
  },
  {
   "cell_type": "code",
   "execution_count": 36,
   "metadata": {
    "collapsed": true
   },
   "outputs": [],
   "source": [
    "writetable(joinpath(ou_Rdir, \"RMSE Train Eps = .0009 R = 100000.csv\"), DataFrame(MH = round(rmse_ch1_train, 3), HMC = round(rmse_ch2_train, 3), SGHMC = round(rmse_ch3_train, 3)))"
   ]
  },
  {
   "cell_type": "code",
   "execution_count": 37,
   "metadata": {
    "collapsed": false
   },
   "outputs": [],
   "source": [
    "writetable(joinpath(ou_Rdir, \"RMSE Testing Eps = .0009 R = 100000.csv\"), DataFrame(MH = round(rmse_ch1, 3), HMC = round(rmse_ch2, 3), SGHMC = round(rmse_ch3, 3)))"
   ]
  }
 ],
 "metadata": {
  "anaconda-cloud": {},
  "kernelspec": {
   "display_name": "Julia 0.5.0",
   "language": "julia",
   "name": "julia-0.5"
  },
  "language_info": {
   "file_extension": ".jl",
   "mimetype": "application/julia",
   "name": "julia",
   "version": "0.5.0"
  }
 },
 "nbformat": 4,
 "nbformat_minor": 2
}
