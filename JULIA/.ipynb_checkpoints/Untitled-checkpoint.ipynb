{
 "cells": [
  {
   "cell_type": "code",
   "execution_count": 1,
   "metadata": {
    "collapsed": true
   },
   "outputs": [],
   "source": [
    "using PyPlot\n",
    "using Distributions\n",
    "using StatsBase: autocor"
   ]
  },
  {
   "cell_type": "code",
   "execution_count": 2,
   "metadata": {
    "collapsed": false
   },
   "outputs": [
    {
     "data": {
      "text/plain": [
       "2×2 Array{Float64,2}:\n",
       " 0.25  0.0 \n",
       " 0.0   0.25"
      ]
     },
     "execution_count": 2,
     "metadata": {},
     "output_type": "execute_result"
    }
   ],
   "source": [
    "srand(123);\n",
    "\n",
    "# Set the parameters\n",
    "w0 = .9; w1 = -.7; stdev = 5.;\n",
    "\n",
    "# Define data parameters\n",
    "alpha = 1 / stdev; # for likelihood\n",
    "\n",
    "# Generate Hypothetical Data\n",
    "n = 200\n",
    "x = rand(Uniform(-1, 1), n);\n",
    "A = [ones(length(x)) x];\n",
    "B = [w0; w1];\n",
    "f = A * B\n",
    "y = f + rand(Normal(0, alpha), n)\n",
    "\n",
    "# Define Hyperparameters\n",
    "Imat = diagm(ones(2), 0)\n",
    "b = 2. # for prior\n",
    "b1 = (1 / b)^2 # Square this since in Julia, rnorm uses standard dev\n",
    "\n",
    "mu = zeros(2) # for prior\n",
    "s = b1 * Imat # for prior"
   ]
  },
  {
   "cell_type": "code",
   "execution_count": 3,
   "metadata": {
    "collapsed": false
   },
   "outputs": [
    {
     "ename": "LoadError",
     "evalue": "UndefVarError: xyplot not defined",
     "output_type": "error",
     "traceback": [
      "UndefVarError: xyplot not defined",
      ""
     ]
    }
   ],
   "source": [
    "xyplot(x, y, xlab = \"Predictor\", ylab = \"Response\")"
   ]
  },
  {
   "cell_type": "code",
   "execution_count": 4,
   "metadata": {
    "collapsed": false
   },
   "outputs": [
    {
     "data": {
      "text/plain": [
       "mh (generic function with 1 method)"
      ]
     },
     "execution_count": 4,
     "metadata": {},
     "output_type": "execute_result"
    }
   ],
   "source": [
    "\"\"\"\n",
    "The log likelihood function is given by the following codes:\n",
    "\"\"\"\n",
    "function loglike(theta::Array{Float64}; alpha::Float64 = alpha, x::Array{Float64} = x, y::Array{Float64} = y)\n",
    "  yhat = theta[1] + theta[2]*x\n",
    "\n",
    "  likhood = Float64[]\n",
    "  for i in 1:length(yhat)\n",
    "    push!(likhood, pdf(Normal(yhat[i], alpha), y[i]))\n",
    "  end\n",
    "\n",
    "  return likhood |> sum\n",
    "end\n",
    "\n",
    "\"\"\"\n",
    "Define the log prior and lo posterior\n",
    "\"\"\"\n",
    "function logprior(theta::Array{Float64}; mu::Array{Float64} = mu, s::Array{Float64} = s)\n",
    "  w0_prior = log(pdf(Normal(mu[1, 1], s[1, 1]), theta[1]))\n",
    "  w1_prior = log(pdf(Normal(mu[2, 1], s[2, 2]), theta[2]))\n",
    "   w_prior = [w0_prior w1_prior]\n",
    "\n",
    "  return w_prior |> sum\n",
    "end\n",
    "\n",
    "function logpost(theta::Array{Float64})\n",
    "  loglike(theta, alpha = alpha, x = x, y = y) + logprior(theta, mu = mu, s = s)\n",
    "end\n",
    "\n",
    "\"\"\"\n",
    "Define the proposal function and the metropolis-hasting algorithm\n",
    "\"\"\"\n",
    "sigmas = [1; 1];\n",
    "function proposal(theta::Array{Float64})\n",
    "  random = Float64[]\n",
    "\n",
    "  for i in 1:length(theta)\n",
    "    push!(random, rand(Normal(theta[i], sigmas[i])))\n",
    "  end\n",
    "\n",
    "  return random\n",
    "end\n",
    "\n",
    "function mh(theta_start, max_iter)\n",
    "  chain = zeros((max_iter + 1, length(theta_start)))\n",
    "  chain[1, :] = theta_start\n",
    "\n",
    "  for i in 1:max_iter\n",
    "    propose = proposal(chain[i, :])\n",
    "    probab = exp(logpost(propose) - logpost(chain[i, :]))\n",
    "\n",
    "    if rand(Uniform()) < probab\n",
    "      chain[i + 1, :] = propose\n",
    "    else\n",
    "      chain[i + 1, :] = chain[i, :]\n",
    "    end\n",
    "  end\n",
    "\n",
    "  return chain\n",
    "end"
   ]
  },
  {
   "cell_type": "code",
   "execution_count": 5,
   "metadata": {
    "collapsed": false
   },
   "outputs": [
    {
     "name": "stderr",
     "output_type": "stream",
     "text": [
      "\u001b[1m\u001b[31mWARNING: replacing docs for 'sigmas :: Union{}' in module 'Main'.\u001b[0m\n",
      "WARNING: Method definition proposal(Array{Float64, N<:Any}) in module Main at In[4]:35 overwritten at In[5]:6.\n",
      "WARNING: Method definition mh(Any, Any) in module Main at In[4]:45 overwritten at In[5]:16.\n"
     ]
    },
    {
     "data": {
      "text/plain": [
       "mh (generic function with 1 method)"
      ]
     },
     "execution_count": 5,
     "metadata": {},
     "output_type": "execute_result"
    }
   ],
   "source": [
    "\"\"\"\n",
    "Define the proposal function and the metropolis-hasting algorithm\n",
    "\"\"\"\n",
    "sigmas = [1; 1];\n",
    "function proposal(theta::Array{Float64})\n",
    "  random = Float64[]\n",
    "\n",
    "  for i in 1:length(theta)\n",
    "    push!(random, rand(Normal(theta[i], sigmas[i])))\n",
    "  end\n",
    "\n",
    "  return random\n",
    "end\n",
    "\n",
    "function mh(theta_start, max_iter)\n",
    "  chain = zeros((max_iter + 1, length(theta_start)))\n",
    "  chain[1, :] = theta_start\n",
    "\n",
    "  for i in 1:max_iter\n",
    "    propose = proposal(chain[i, :])\n",
    "    probab = exp(logpost(propose) - logpost(chain[i, :]))\n",
    "\n",
    "    if rand(Uniform()) < probab\n",
    "      chain[i + 1, :] = propose\n",
    "    else\n",
    "      chain[i + 1, :] = chain[i, :]\n",
    "    end\n",
    "  end\n",
    "\n",
    "  return chain\n",
    "end"
   ]
  },
  {
   "cell_type": "code",
   "execution_count": 6,
   "metadata": {
    "collapsed": false
   },
   "outputs": [
    {
     "ename": "LoadError",
     "evalue": "cannot document the following expression:\n\n@time mcmc = mh([0;0],50000)\n\n'@time' not documentable. See 'Base.@__doc__' docs for details.\n",
     "output_type": "error",
     "traceback": [
      "cannot document the following expression:\n\n@time mcmc = mh([0;0],50000)\n\n'@time' not documentable. See 'Base.@__doc__' docs for details.\n",
      "",
      " in error(::String, ::String, ::Vararg{String,N}) at ./error.jl:22"
     ]
    }
   ],
   "source": [
    "\"\"\"\n",
    "Apply the function\n",
    "\"\"\"\n",
    "@time mcmc = mh([0; 0], 50000)\n",
    "w_est = mapslices(mean, mcmc, [1])"
   ]
  },
  {
   "cell_type": "code",
   "execution_count": null,
   "metadata": {
    "collapsed": true
   },
   "outputs": [],
   "source": []
  }
 ],
 "metadata": {
  "anaconda-cloud": {},
  "kernelspec": {
   "display_name": "Julia 0.5.0",
   "language": "julia",
   "name": "julia-0.5"
  },
  "language_info": {
   "file_extension": ".jl",
   "mimetype": "application/julia",
   "name": "julia",
   "version": "0.5.0"
  }
 },
 "nbformat": 4,
 "nbformat_minor": 1
}
