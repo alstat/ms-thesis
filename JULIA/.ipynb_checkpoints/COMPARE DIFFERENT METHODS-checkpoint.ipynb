{
 "cells": [
  {
   "cell_type": "markdown",
   "metadata": {
    "nbpresent": {
     "id": "25f810a8-29eb-4ae9-adda-122bda2f80af"
    }
   },
   "source": [
    "# Compare Different MCMC Methods"
   ]
  },
  {
   "cell_type": "markdown",
   "metadata": {
    "nbpresent": {
     "id": "2edd87d3-9a48-4d50-a155-d0ce5c56a19d"
    }
   },
   "source": [
    "The following output path will serve as folder for Julia results. As emphasized in the paper, the computation in the main results are done in Julia but visualized in R. The MAIN RESULTS folder below will accomodate the Julia output which will be imported to R for visualization."
   ]
  },
  {
   "cell_type": "code",
   "execution_count": 1,
   "metadata": {
    "collapsed": false,
    "nbpresent": {
     "id": "d61c02a0-f047-4ddb-9f38-2978b8075b97"
    }
   },
   "outputs": [],
   "source": [
    "out_path = joinpath(homedir(), \"Dropbox/MS THESIS/R/MAIN RESULTS\");"
   ]
  },
  {
   "cell_type": "code",
   "execution_count": 2,
   "metadata": {
    "collapsed": false,
    "nbpresent": {
     "id": "009802b5-1388-4397-916e-6ad725c32fe7"
    }
   },
   "outputs": [],
   "source": [
    "using Distributions: pdf, rand, Uniform, Normal\n",
    "using DataFrames: DataFrame, nrow, writetable, stack, unstack\n",
    "using Gadfly\n",
    "using RDatasets\n",
    "using StatsBase: autocor\n",
    "\n",
    "Gadfly.push_theme(:dark)"
   ]
  },
  {
   "cell_type": "markdown",
   "metadata": {
    "nbpresent": {
     "id": "a1de466f-d803-4941-9e4e-f06b3f86d8bc"
    }
   },
   "source": [
    "## 1 Functions\n",
    "The following imports the MCMC functions needed for later computations."
   ]
  },
  {
   "cell_type": "code",
   "execution_count": 3,
   "metadata": {
    "collapsed": false,
    "nbpresent": {
     "id": "3de19635-4ae5-4af7-9f2e-11d496dfc6ed"
    }
   },
   "outputs": [],
   "source": [
    "include(joinpath(homedir(), \"Dropbox/MS THESIS/JULIA/MH.jl\"));\n",
    "include(joinpath(homedir(), \"Dropbox/MS THESIS/JULIA/Gibbs.jl\"));\n",
    "include(joinpath(homedir(), \"Dropbox/MS THESIS/JULIA/HMC.jl\"));\n",
    "include(joinpath(homedir(), \"Dropbox/MS THESIS/JULIA/SG HMC.jl\"));"
   ]
  },
  {
   "cell_type": "markdown",
   "metadata": {
    "nbpresent": {
     "id": "e41fc778-2c95-4c0d-805a-98b26aa0163a"
    }
   },
   "source": [
    "## 2 Bayesian Linear Regression"
   ]
  },
  {
   "cell_type": "markdown",
   "metadata": {},
   "source": [
    "<h2 style = \"color:orange; font-family:Georgia;\">A. Sample Size: 10</h2>"
   ]
  },
  {
   "cell_type": "code",
   "execution_count": 4,
   "metadata": {
    "collapsed": false,
    "nbpresent": {
     "id": "6cf7eeba-b721-4590-91ad-9f96d2e2f438"
    }
   },
   "outputs": [],
   "source": [
    "srand(123);\n",
    "w0 = -.3; w1 = -.5; stdev = 5.;\n",
    "\n",
    "\"\"\"\n",
    "Define Data Parameters:\n",
    "\"\"\"\n",
    "# Precision\n",
    "α = 1 / stdev; \n",
    "\n",
    "# Generate Hypothetical Data\n",
    "n = 10000;\n",
    "x = rand(Uniform(-1, 1), n);\n",
    "A = [ones(length(x)) x];\n",
    "B = [w0; w1];\n",
    "f = A * B;\n",
    "y = f + rand(Normal(0, α), n);\n",
    "\n",
    "\"\"\"\n",
    "Define Hyperparameters\n",
    "\"\"\"\n",
    "Imat = eye(2);\n",
    "β = 2.;\n",
    "β1 = (1 / β)^2; # Square this since in Julia, Normal() uses standard dev\n",
    "\n",
    "μ = zeros(2); # prior hyperparameter for mean\n",
    "s = β1 * Imat; # prior hyperparameter for standard deviation\n",
    "\n",
    "xy_df = DataFrame(X = x, Y = y);\n",
    "burn_in = 1000;"
   ]
  },
  {
   "cell_type": "code",
   "execution_count": 5,
   "metadata": {
    "collapsed": false
   },
   "outputs": [],
   "source": [
    "\"\"\"\n",
    "The log likelihood function is given by the following codes:\n",
    "\"\"\"\n",
    "function loglike(theta::Array{Float64}; alpha::Float64 = α, x::Array{Float64} = x, y::Array{Float64} = y)\n",
    "  yhat = theta[1] + theta[2] * x\n",
    "\n",
    "  likhood = Float64[]\n",
    "  for i in 1:length(yhat)\n",
    "    push!(likhood, pdf(Normal(yhat[i], alpha), y[i]))\n",
    "  end\n",
    "\n",
    "  return likhood |> sum\n",
    "end\n",
    "\n",
    "\"\"\"\n",
    "Define the logprior and logposterior\n",
    "\"\"\"\n",
    "function logprior(theta::Array{Float64}; mu::Array{Float64} = μ, s::Array{Float64} = s)\n",
    "  w0_prior = log(pdf(Normal(mu[1, 1], s[1, 1]), theta[1]))\n",
    "  w1_prior = log(pdf(Normal(mu[2, 1], s[2, 2]), theta[2]))\n",
    "   w_prior = [w0_prior w1_prior]\n",
    "\n",
    "  return w_prior |> sum\n",
    "end\n",
    "\n",
    "function logpost(theta::Array{Float64})\n",
    "    loglike(theta, alpha = α, x = x, y = y) + logprior(theta, mu = μ, s = s)\n",
    "end\n",
    "\n",
    "Potential(theta::Array{Float64}) = - logpost(theta)\n",
    "\n",
    "Kinetic(p::Array{Float64}; Σ = eye(length(p))) = (p' * inv(Σ) * p) / 2\n",
    "\n",
    "function dPotential(theta::Array{Float64}; alpha::Float64 = 1/5., b::Float64 = 2.)\n",
    "  [-alpha * sum(y - (theta[1] + theta[2] * x));\n",
    "   -alpha * sum((y - (theta[1] + theta[2] * x)) .* x)] + b * theta\n",
    "end\n",
    "\n",
    "function dPotential_noise(theta::Array{Float64}; alpha::Float64 = 1/5., b::Float64 = 2.)\n",
    "  [-alpha * sum(y - (theta[1] + theta[2] * x));\n",
    "   -alpha * sum((y - (theta[1] + theta[2] * x)) .* x)] + b * theta + randn(2, 1)\n",
    "end\n",
    "\n",
    "dKinetic(p::AbstractArray{Float64}; Σ::Array{Float64} = eye(length(p))) = inv(Σ) * p;"
   ]
  },
  {
   "cell_type": "markdown",
   "metadata": {
    "nbpresent": {
     "id": "3452dcd7-a952-4072-8973-298be3984401"
    }
   },
   "source": [
    "### 2.1 Metropolis-Hasting"
   ]
  },
  {
   "cell_type": "code",
   "execution_count": 6,
   "metadata": {
    "collapsed": false,
    "nbpresent": {
     "id": "4d76e792-662d-496f-9d01-0d27c07b3c38"
    }
   },
   "outputs": [
    {
     "name": "stdout",
     "output_type": "stream",
     "text": [
      "  7.233864 seconds (1.15 M allocations: 7.909 GB, 9.99% gc time)\n"
     ]
    }
   ],
   "source": [
    "mh_object = MH(logpost);\n",
    "@time chain1 = mcmc(mh_object, r = 10000);"
   ]
  },
  {
   "cell_type": "code",
   "execution_count": 7,
   "metadata": {
    "collapsed": false,
    "nbpresent": {
     "id": "2072c80c-c2ac-478b-9a8d-cfe1e1bbeff8"
    }
   },
   "outputs": [
    {
     "data": {
      "text/plain": [
       "1×2 Array{Float64,2}:\n",
       " -0.298136  -0.509794"
      ]
     },
     "execution_count": 7,
     "metadata": {},
     "output_type": "execute_result"
    }
   ],
   "source": [
    "mapslices(mean, chain1[Array{Int64}(collect((burn_in + 1):((10000 - burn_in) / 3000):10000)), :], [1])"
   ]
  },
  {
   "cell_type": "code",
   "execution_count": 8,
   "metadata": {
    "collapsed": false,
    "nbpresent": {
     "id": "cefcf5f4-7e93-41cb-816d-5ffb1c513ab9"
    }
   },
   "outputs": [],
   "source": [
    "xy_df_mh = xy_df;"
   ]
  },
  {
   "cell_type": "code",
   "execution_count": 9,
   "metadata": {
    "collapsed": false,
    "nbpresent": {
     "id": "3a90bf90-e445-41cc-92ba-ca91b8b53356"
    }
   },
   "outputs": [],
   "source": [
    "xy_df_mh[:Yhat] = mapslices(mean, chain1[Array{Int64}(collect((burn_in + 1):((10000 - burn_in) / 3000):10000)), :], [1])[1] + mapslices(mean, chain1[Array{Int64}(collect((burn_in + 1):((10000 - burn_in) / 3000):10000)), :], [1])[2] * xy_df[:X];"
   ]
  },
  {
   "cell_type": "code",
   "execution_count": 10,
   "metadata": {
    "collapsed": false,
    "nbpresent": {
     "id": "816b5a01-2c3c-43fb-ba90-2e78701899e4"
    }
   },
   "outputs": [],
   "source": [
    "for i in Array{Int64}(collect((burn_in + 1):((10000 - burn_in) / 3000):10000))\n",
    "    xy_df_mh[Symbol(\"Yhat_Sample_\" * string(i))] = chain1[i, 1] + chain1[i, 2] * xy_df_mh[:X]\n",
    "end"
   ]
  },
  {
   "cell_type": "code",
   "execution_count": 11,
   "metadata": {
    "collapsed": false,
    "nbpresent": {
     "id": "23fccde9-3940-4f78-9c6b-1c9ca5d452da"
    }
   },
   "outputs": [],
   "source": [
    "xy_stack_mh = DataFrame(X = repeat(Array(xy_df_mh[:X]), outer = 3000), \n",
    "                        Y = repeat(Array(xy_df_mh[:Y]), outer = 3000),\n",
    "                        Var = Array(stack(xy_df_mh[:, 4:end])[1]),\n",
    "                        Val = Array(stack(xy_df_mh[:, 4:end])[2]));"
   ]
  },
  {
   "cell_type": "code",
   "execution_count": 12,
   "metadata": {
    "collapsed": false,
    "nbpresent": {
     "id": "0734ff44-e46e-4e51-8c58-d4474f9fab51"
    }
   },
   "outputs": [],
   "source": [
    "ch1cor_df = DataFrame(x = collect(0:1:(length(autocor(chain1[Array{Int64}(collect((burn_in + 1):((10000 - burn_in) / 3000):10000)), 1])) - 1)), \n",
    "                      y1 = autocor(chain1[Array{Int64}(collect((burn_in + 1):((10000 - burn_in) / 3000):10000)), 1]),\n",
    "                      y2 = autocor(chain1[Array{Int64}(collect((burn_in + 1):((10000 - burn_in) / 3000):10000)), 2]));"
   ]
  },
  {
   "cell_type": "code",
   "execution_count": 13,
   "metadata": {
    "collapsed": false,
    "nbpresent": {
     "id": "06e23a59-76f2-4789-89a4-1847e6a4c51a"
    }
   },
   "outputs": [],
   "source": [
    "p0 = plot(xy_df, x = :X, y = :Y, Geom.point, style(default_point_size = .05cm), Guide.xlabel(\"Explanatory\"), Guide.ylabel(\"Response\"));\n",
    "p1 = plot(DataFrame(chain1), x = :x1, xintercept = [-.3], Geom.vline(color = colorant\"white\"), Geom.histogram(bincount = 30, density = true), Guide.xlabel(\"1st Parameter\"), Guide.ylabel(\"Density\"));\n",
    "p2 = plot(DataFrame(chain1), x = :x2, xintercept = [-.5], Geom.vline(color = colorant\"white\"), Geom.histogram(bincount = 30, density = true), Guide.xlabel(\"2nd Parameter\"), Guide.ylabel(\"Density\"));\n",
    "p3 = plot(DataFrame(chain1), x = collect(1:nrow(DataFrame(chain1))), y = :x1, yintercept = [-.3], Geom.hline(color = colorant\"white\"), Geom.line, Guide.xlabel(\"Iterations\"), Guide.ylabel(\"1st Parameter Chain Values\"));\n",
    "p4 = plot(DataFrame(chain1), x = collect(1:nrow(DataFrame(chain1))), y = :x2, yintercept = [-.5], Geom.hline(color = colorant\"white\"), Geom.line, Guide.xlabel(\"Iterations\"), Guide.ylabel(\"2nd Parameter Chain Values\"));\n",
    "p5 = plot(DataFrame(chain1), x = :x1, y = :x2, Geom.path, Geom.point, Guide.xlabel(\"1st Parameter Chain Values\"), Guide.ylabel(\"2nd Parameter Chain Values\"));\n",
    "p6 = plot(layer(xy_df_mh, x = :X, y = :Yhat, Geom.line, style(default_color = colorant\"white\")),\n",
    "          layer(xy_stack_mh, x = :X, y = :Val, group = :Var, Geom.line, style(default_color = colorant\"orange\")),\n",
    "          layer(xy_df_mh, x = :X, y = :Y, Geom.point, style(default_point_size = .05cm)),\n",
    "          Guide.xlabel(\"Explanatory\"), Guide.ylabel(\"Response and Predicted\"));\n",
    "p7 = plot(ch1cor_df, x = :x, y = :y1, Geom.bar, Guide.xlabel(\"Lags\"), Guide.ylabel(\"1st Parameter Autocorrelations\"), Coord.cartesian(xmin = -1, xmax = 36, ymin = -.05, ymax = 1.05));\n",
    "p8 = plot(ch1cor_df, x = :x, y = :y2, Geom.bar,  Guide.xlabel(\"Lags\"), Guide.ylabel(\"2nd Parameter Autocorrelations\"), Coord.cartesian(xmin = -1, xmax = 36, ymin = -.05, ymax = 1.05));"
   ]
  },
  {
   "cell_type": "code",
   "execution_count": 14,
   "metadata": {
    "collapsed": false
   },
   "outputs": [
    {
     "data": {
      "image/png": "[encoded data removed]",
      "text/plain": [
       "Compose.Image{Compose.PNGBackend}(IOBuffer(data=UInt8[...], readable=true, writable=true, seekable=true, append=false, size=198554, maxsize=Inf, ptr=198555, mark=-1),Cairo.CairoSurface{UInt32}(Ptr{Void} @0x0000000000000000,945.0,945.0,#undef),Cairo.CairoContext(Ptr{Void} @0x0000000000000000,Cairo.CairoSurface{UInt32}(Ptr{Void} @0x0000000000000000,945.0,945.0,#undef),Ptr{Void} @0x00000000218e00b0),944.8818897637797,944.8818897637797,RGBA{Float64}(0.0,0.0,0.0,0.0),RGBA{Float64}(0.0,0.0,0.0,1.0),Float64[],Compose.LineCapButt(),Compose.LineJoinMiter(),true,0.3mm,3.880555555555555mm,\"Helvetica Neue,Helvetica,Arial,sans\",Nullable{Compose.ClipPrimitive{P<:Tuple{Vararg{Measures.Measure,N}}}}(),Compose.ImagePropertyState[],Compose.ImagePropertyFrame[],Dict{Type,Nullable{Compose.Property}}(),true,false,nothing,true,true,3.7795275590551185,Nullable{Tuple{Measures.Length{:mm,Float64},Measures.Length{:mm,Float64}}}(),Nullable{Tuple{Measures.Length{:mm,Float64},Measures.Length{:mm,Float64}}}())"
      ]
     },
     "metadata": {},
     "output_type": "display_data"
    }
   ],
   "source": [
    "draw(PNG(25cm, 25cm), vstack(hstack(p0, p1, p2), hstack(p3, p4, p5), hstack(p6, p7, p8)))"
   ]
  },
  {
   "cell_type": "markdown",
   "metadata": {
    "nbpresent": {
     "id": "e35057b0-bd70-443e-9c8a-1850d9631b15"
    }
   },
   "source": [
    "### 2.2 Gibbs"
   ]
  },
  {
   "cell_type": "code",
   "execution_count": 13,
   "metadata": {
    "collapsed": false,
    "nbpresent": {
     "id": "2c07ad23-55f7-4e70-9c04-756f2838956e"
    }
   },
   "outputs": [
    {
     "name": "stderr",
     "output_type": "stream",
     "text": [
      "WARNING: Method definition sample_w0("
     ]
    },
    {
     "data": {
      "text/plain": [
       "sample_w1 (generic function with 1 method)"
      ]
     },
     "execution_count": 13,
     "metadata": {},
     "output_type": "execute_result"
    },
    {
     "name": "stderr",
     "output_type": "stream",
     "text": [
      "Float64) in module Main at In[6]:2 overwritten at In[13]:2.\n",
      "WARNING: Method definition sample_w1(Float64) in module Main at In[6]:9 overwritten at In[13]:9.\n"
     ]
    }
   ],
   "source": [
    "function sample_w0(w1::Float64)\n",
    "    N = length(x)\n",
    "    μ_ = (β1 * μ[1] + α * sum(y - w1 * x)) / (β1 + N * α)\n",
    "    σ_ = 1 / (β1 + N * α)\n",
    "    return rand(Normal(μ_, σ_))\n",
    "end\n",
    "\n",
    "function sample_w1(w0::Float64)\n",
    "    N = length(x)\n",
    "    μ_ = (β1 * μ[2] + α * sum(y .* x - w0 * x)) / (β1 - α * sum(x .^ 2))\n",
    "    σ_ = 1 / (β1 - α * sum(x .^ 2))\n",
    "    return rand(Normal(μ_, σ_))\n",
    "end"
   ]
  },
  {
   "cell_type": "code",
   "execution_count": 19,
   "metadata": {
    "collapsed": false
   },
   "outputs": [
    {
     "data": {
      "text/plain": [
       "661.9201521367734"
      ]
     },
     "execution_count": 19,
     "metadata": {},
     "output_type": "execute_result"
    }
   ],
   "source": [
    "α * sum(x .^ 2)"
   ]
  },
  {
   "cell_type": "code",
   "execution_count": 14,
   "metadata": {
    "collapsed": false
   },
   "outputs": [
    {
     "ename": "LoadError",
     "evalue": "UndefVarError: N not defined",
     "output_type": "error",
     "traceback": [
      "UndefVarError: N not defined",
      ""
     ]
    }
   ],
   "source": [
    " 1 / (β1 + N * α)"
   ]
  },
  {
   "cell_type": "code",
   "execution_count": 15,
   "metadata": {
    "collapsed": false
   },
   "outputs": [
    {
     "data": {
      "text/plain": [
       "0.2"
      ]
     },
     "execution_count": 15,
     "metadata": {},
     "output_type": "execute_result"
    }
   ],
   "source": [
    "α"
   ]
  },
  {
   "cell_type": "code",
   "execution_count": 16,
   "metadata": {
    "collapsed": false
   },
   "outputs": [
    {
     "data": {
      "text/plain": [
       "0.25"
      ]
     },
     "execution_count": 16,
     "metadata": {},
     "output_type": "execute_result"
    }
   ],
   "source": [
    "β1"
   ]
  },
  {
   "cell_type": "code",
   "execution_count": 17,
   "metadata": {
    "collapsed": false
   },
   "outputs": [
    {
     "data": {
      "text/plain": [
       "-0.0015153348428019252"
      ]
     },
     "execution_count": 17,
     "metadata": {},
     "output_type": "execute_result"
    }
   ],
   "source": [
    "1 / (β - α * sum(x .^ 2))"
   ]
  },
  {
   "cell_type": "code",
   "execution_count": 18,
   "metadata": {
    "collapsed": false
   },
   "outputs": [
    {
     "ename": "LoadError",
     "evalue": "ArgumentError: Normal: the condition σ > zero(σ) is not satisfied.",
     "output_type": "error",
     "traceback": [
      "ArgumentError: Normal: the condition σ > zero(σ) is not satisfied.",
      "",
      " in macro expansion at C:\\Users\\Al Asaad\\.julia\\v0.5\\Distributions\\src\\utils.jl:6 [inlined]",
      " in Type at C:\\Users\\Al Asaad\\.julia\\v0.5\\Distributions\\src\\univariate\\continuous\\normal.jl:28 [inlined]",
      " in Distributions.Normal{T<:Real}(::Float64, ::Float64) at C:\\Users\\Al Asaad\\.julia\\v0.5\\Distributions\\src\\univariate\\continuous\\normal.jl:32",
      " in sample_w1(::Float64) at .\\In[13]:12",
      " in #mcmc#3(::Int64, ::Int64, ::Function, ::Gibbs) at C:\\Users\\Al Asaad\\Dropbox\\MS THESIS\\JULIA\\Gibbs.jl:22",
      " in (::#kw##mcmc)(::Array{Any,1}, ::#mcmc, ::Gibbs) at .\\<missing>:0"
     ]
    }
   ],
   "source": [
    "gibbs_object = Gibbs(Dict(\"d1\" => sample_w0, \"d2\" => sample_w1), [0; 0]);\n",
    "@time chain2 = mcmc(gibbs_object; r = 10000);"
   ]
  },
  {
   "cell_type": "code",
   "execution_count": 17,
   "metadata": {
    "collapsed": false
   },
   "outputs": [
    {
     "ename": "LoadError",
     "evalue": "UndefVarError: chain2 not defined",
     "output_type": "error",
     "traceback": [
      "UndefVarError: chain2 not defined",
      ""
     ]
    }
   ],
   "source": [
    "mapslices(mean, chain2, [1])"
   ]
  },
  {
   "cell_type": "code",
   "execution_count": 18,
   "metadata": {
    "collapsed": false,
    "nbpresent": {
     "id": "cefcf5f4-7e93-41cb-816d-5ffb1c513ab9"
    }
   },
   "outputs": [],
   "source": [
    "xy_df_gibbs = xy_df;"
   ]
  },
  {
   "cell_type": "code",
   "execution_count": 19,
   "metadata": {
    "collapsed": false,
    "nbpresent": {
     "id": "3a90bf90-e445-41cc-92ba-ca91b8b53356"
    }
   },
   "outputs": [
    {
     "ename": "LoadError",
     "evalue": "UndefVarError: chain2 not defined",
     "output_type": "error",
     "traceback": [
      "UndefVarError: chain2 not defined",
      ""
     ]
    }
   ],
   "source": [
    "xy_df_gibbs[:Yhat] = mapslices(mean, chain2[Array{Int64}(collect((burn_in + 1):((10000 - burn_in) / 3000):10000)), :], [1])[1] + mapslices(mean, chain2[Array{Int64}(collect((burn_in + 1):((10000 - burn_in) / 3000):10000)), :], [1])[2] * xy_df[:X];"
   ]
  },
  {
   "cell_type": "code",
   "execution_count": 20,
   "metadata": {
    "collapsed": false,
    "nbpresent": {
     "id": "816b5a01-2c3c-43fb-ba90-2e78701899e4"
    }
   },
   "outputs": [
    {
     "ename": "LoadError",
     "evalue": "UndefVarError: chain2 not defined",
     "output_type": "error",
     "traceback": [
      "UndefVarError: chain2 not defined",
      "",
      " in macro expansion; at .\\In[20]:2 [inlined]",
      " in anonymous at .\\<missing>:?"
     ]
    }
   ],
   "source": [
    "for i in Array{Int64}(collect((burn_in + 1):((10000 - burn_in) / 3000):10000))\n",
    "    xy_df_gibbs[Symbol(\"Yhat_Sample_\" * string(i))] = chain2[i, 1] + chain2[i, 2] * xy_df_gibbs[:X]\n",
    "end"
   ]
  },
  {
   "cell_type": "code",
   "execution_count": null,
   "metadata": {
    "collapsed": false,
    "nbpresent": {
     "id": "23fccde9-3940-4f78-9c6b-1c9ca5d452da"
    }
   },
   "outputs": [],
   "source": [
    "xy_stack_gibbs = DataFrame(X = repeat(Array(xy_df_gibbs[:X]), outer = 3000), \n",
    "                           Y = repeat(Array(xy_df_gibbs[:Y]), outer = 3000),\n",
    "                           Var = Array(stack(xy_df_gibbs[:, 4:end])[1]),\n",
    "                           Val = Array(stack(xy_df_gibbs[:, 4:end])[2]));"
   ]
  },
  {
   "cell_type": "code",
   "execution_count": null,
   "metadata": {
    "collapsed": false,
    "nbpresent": {
     "id": "0734ff44-e46e-4e51-8c58-d4474f9fab51"
    }
   },
   "outputs": [],
   "source": [
    "ch2cor_df = DataFrame(x = collect(0:1:(length(autocor(chain2[Array{Int64}(collect((burn_in + 1):((10000 - burn_in) / 3000):10000)), 1])) - 1)), \n",
    "                      y1 = autocor(chain2[Array{Int64}(collect((burn_in + 1):((10000 - burn_in) / 3000):10000)), 1]),\n",
    "                      y2 = autocor(chain2[Array{Int64}(collect((burn_in + 1):((10000 - burn_in) / 3000):10000)), 2]));"
   ]
  },
  {
   "cell_type": "code",
   "execution_count": null,
   "metadata": {
    "collapsed": false
   },
   "outputs": [],
   "source": [
    "p0 = plot(xy_df, x = :X, y = :Y, Geom.point, style(default_point_size = .05cm), Guide.xlabel(\"Explanatory\"), Guide.ylabel(\"Response\"));\n",
    "p1 = plot(DataFrame(chain2), x = :x1, xintercept = [-.3], Geom.vline(color = colorant\"white\"), Geom.histogram(bincount = 30, density = true), Guide.xlabel(\"1st Parameter\"), Guide.ylabel(\"Density\"));\n",
    "p2 = plot(DataFrame(chain2), x = :x2, xintercept = [-.5], Geom.vline(color = colorant\"white\"), Geom.histogram(bincount = 30, density = true), Guide.xlabel(\"2nd Parameter\"), Guide.ylabel(\"Density\"));\n",
    "p3 = plot(DataFrame(chain2), x = collect(1:nrow(DataFrame(chain2))), y = :x1, yintercept = [-.3], Geom.hline(color = colorant\"white\"), Geom.line, Guide.xlabel(\"Iterations\"), Guide.ylabel(\"1st Parameter Chain Values\"));\n",
    "p4 = plot(DataFrame(chain2), x = collect(1:nrow(DataFrame(chain2))), y = :x2, yintercept = [-.5], Geom.hline(color = colorant\"white\"), Geom.line, Guide.xlabel(\"Iterations\"), Guide.ylabel(\"2nd Parameter Chain Values\"));\n",
    "p5 = plot(DataFrame(chain2), x = :x1, y = :x2, Geom.path, Geom.point, Guide.xlabel(\"1st Parameter Chain Values\"), Guide.ylabel(\"2nd Parameter Chain Values\"));\n",
    "p6 = plot(layer(xy_df_gibbs, x = :X, y = :Yhat, Geom.line, style(default_color = colorant\"white\")),\n",
    "          layer(xy_stack_gibbs, x = :X, y = :Val, group = :Var, Geom.line, style(default_color = colorant\"orange\")),\n",
    "          layer(xy_df_gibbs, x = :X, y = :Y, Geom.point, style(default_point_size = .05cm)),\n",
    "          Guide.xlabel(\"Explanatory\"), Guide.ylabel(\"Response and Predicted\"));\n",
    "p7 = plot(ch2cor_df, x = :x, y = :y1, Geom.bar, Guide.xlabel(\"Lags\"), Guide.ylabel(\"1st Parameter Autocorrelations\"), Coord.cartesian(xmin = -1, xmax = 41, ymin = -.05, ymax = 1.05));\n",
    "p8 = plot(ch2cor_df, x = :x, y = :y2, Geom.bar,  Guide.xlabel(\"Lags\"), Guide.ylabel(\"2nd Parameter Autocorrelations\"), Coord.cartesian(xmin = -1, xmax = 41, ymin = -.05, ymax = 1.05));"
   ]
  },
  {
   "cell_type": "code",
   "execution_count": null,
   "metadata": {
    "collapsed": false
   },
   "outputs": [],
   "source": [
    "draw(PNG(25cm, 25cm), vstack(hstack(p0, p1, p2), hstack(p3, p4, p5), hstack(p6, p7, p8)))"
   ]
  },
  {
   "cell_type": "markdown",
   "metadata": {
    "nbpresent": {
     "id": "aa91024f-463c-4607-a30f-a29f6bf99bcb"
    }
   },
   "source": [
    "### 2.3 Hamiltonian Monte Carlo"
   ]
  },
  {
   "cell_type": "code",
   "execution_count": null,
   "metadata": {
    "collapsed": false,
    "nbpresent": {
     "id": "69fb81e5-2d57-460d-906d-e0704dc23fa5"
    }
   },
   "outputs": [],
   "source": [
    "hmc_object = HMC(Potential, Kinetic, dPotential, dKinetic, zeros(2, 1), 2);\n",
    "@time chain3 = mcmc(hmc_object, r = 10000);"
   ]
  },
  {
   "cell_type": "code",
   "execution_count": null,
   "metadata": {
    "collapsed": false,
    "nbpresent": {
     "id": "65298aa2-509d-4b0c-9aad-a1611f4f581d"
    }
   },
   "outputs": [],
   "source": [
    "mapslices(mean, chain3, [1])"
   ]
  },
  {
   "cell_type": "code",
   "execution_count": null,
   "metadata": {
    "collapsed": true,
    "nbpresent": {
     "id": "3f760f62-f4f3-49b8-a539-65f4f1705b1d"
    }
   },
   "outputs": [],
   "source": [
    "xy_df_hmc = xy_df;"
   ]
  },
  {
   "cell_type": "code",
   "execution_count": null,
   "metadata": {
    "collapsed": false,
    "nbpresent": {
     "id": "6eda8920-9185-45d2-b922-6e6c0b6d54d1"
    }
   },
   "outputs": [],
   "source": [
    "xy_df_hmc[:Yhat] = mapslices(mean, chain3, [1])[1] + mapslices(mean, chain3, [1])[2] * xy_df_hmc[:X];"
   ]
  },
  {
   "cell_type": "code",
   "execution_count": null,
   "metadata": {
    "collapsed": true,
    "nbpresent": {
     "id": "b278e28b-3533-4e48-9a8f-02d0d5bf0f7f"
    }
   },
   "outputs": [],
   "source": [
    "burn_in = 1000\n",
    "for i in Array{Int64}(collect((burn_in + 1):((10000 - burn_in) / 3000):10000))\n",
    "    xy_df_hmc[Symbol(\"Yhat_Sample_\" * string(i))] = chain3[i, 1] + chain3[i, 2] * xy_df_hmc[:X]\n",
    "end"
   ]
  },
  {
   "cell_type": "code",
   "execution_count": null,
   "metadata": {
    "collapsed": true,
    "nbpresent": {
     "id": "0cd73c19-1f37-4762-81fa-9ecc41149751"
    }
   },
   "outputs": [],
   "source": [
    "xy_stack_hmc = DataFrame(X = repeat(Array(xy_df_hmc[:X]), outer = 3000), \n",
    "                         Y = repeat(Array(xy_df_hmc[:Y]), outer = 3000),\n",
    "                         Var = Array(stack(xy_df_hmc[:, 4:end])[1]),\n",
    "                         Val = Array(stack(xy_df_hmc[:, 4:end])[2]));"
   ]
  },
  {
   "cell_type": "code",
   "execution_count": null,
   "metadata": {
    "collapsed": true,
    "nbpresent": {
     "id": "940cb951-dccb-475a-be64-bce3daf09067"
    }
   },
   "outputs": [],
   "source": [
    "ch3cor_df = DataFrame(x = collect(0:1:(length(autocor(chain3[:, 1])) - 1)), \n",
    "                      y1 = autocor(chain3[:, 1]),\n",
    "                      y2 = autocor(chain3[:, 2]));"
   ]
  },
  {
   "cell_type": "code",
   "execution_count": null,
   "metadata": {
    "collapsed": false,
    "nbpresent": {
     "id": "b37ee269-cde6-4e54-a683-d36ed7c19bcc"
    }
   },
   "outputs": [],
   "source": [
    "p0 = plot(xy_df, x = :X, y = :Y, Geom.point, style(default_point_size = .05cm), Guide.xlabel(\"Explanatory\"), Guide.ylabel(\"Response\"));\n",
    "p1 = plot(DataFrame(chain3), x = :x1, xintercept = [-.3], Geom.vline(color = colorant\"white\"), Geom.histogram(bincount = 30, density = true), Guide.xlabel(\"1st Parameter\"), Guide.ylabel(\"Density\"));\n",
    "p2 = plot(DataFrame(chain3), x = :x2, xintercept = [-.5], Geom.vline(color = colorant\"white\"), Geom.histogram(bincount = 30, density = true), Guide.xlabel(\"2nd Parameter\"), Guide.ylabel(\"Density\"));\n",
    "p3 = plot(DataFrame(chain3), x = collect(1:nrow(DataFrame(chain3))), y = :x1, yintercept = [-.3], Geom.hline(color = colorant\"white\"), Geom.line, Guide.xlabel(\"Iterations\"), Guide.ylabel(\"1st Parameter Chain Values\"));\n",
    "p4 = plot(DataFrame(chain3), x = collect(1:nrow(DataFrame(chain3))), y = :x2, yintercept = [-.5], Geom.hline(color = colorant\"white\"), Geom.line, Guide.xlabel(\"Iterations\"), Guide.ylabel(\"2nd Parameter Chain Values\"));\n",
    "p5 = plot(DataFrame(chain3), x = :x1, y = :x2, Geom.path, Geom.point, Guide.xlabel(\"1st Parameter Chain Values\"), Guide.ylabel(\"2nd Parameter Chain Values\"));\n",
    "p6 = plot(layer(xy_df_hmc, x = :X, y = :Yhat, Geom.line, style(default_color = colorant\"white\")),\n",
    "          layer(xy_stack_hmc, x = :X, y = :Val, group = :Var, Geom.line, style(default_color = colorant\"orange\")),\n",
    "          layer(xy_df_hmc, x = :X, y = :Y, Geom.point, style(default_point_size = .05cm)),\n",
    "          Guide.xlabel(\"Explanatory\"), Guide.ylabel(\"Response and Predicted\"));\n",
    "p7 = plot(ch3cor_df, x = :x, y = :y1, Geom.bar, Guide.xlabel(\"Lags\"), Guide.ylabel(\"1st Parameter Autocorrelations\"), Coord.cartesian(xmin = -1, xmax = 41, ymin = -.05, ymax = 1.05));\n",
    "p8 = plot(ch3cor_df, x = :x, y = :y2, Geom.bar,  Guide.xlabel(\"Lags\"), Guide.ylabel(\"2nd Parameter Autocorrelations\"), Coord.cartesian(xmin = -1, xmax = 41, ymin = -.05, ymax = 1.05));"
   ]
  },
  {
   "cell_type": "code",
   "execution_count": null,
   "metadata": {
    "collapsed": false
   },
   "outputs": [],
   "source": [
    "draw(PNG(25cm, 25cm), vstack(hstack(p0, p1, p2), hstack(p3, p4, p5), hstack(p6, p7, p8)))"
   ]
  },
  {
   "cell_type": "markdown",
   "metadata": {
    "nbpresent": {
     "id": "2908e305-f0d9-4134-b75a-d03a5307110e"
    }
   },
   "source": [
    "### 2.4 Stochastic Gradient Hamiltonian Monte Carlo"
   ]
  },
  {
   "cell_type": "code",
   "execution_count": null,
   "metadata": {
    "collapsed": false,
    "nbpresent": {
     "id": "7d3449e2-0dc0-4e6f-a1a4-5f636c61b329"
    }
   },
   "outputs": [],
   "source": [
    "SGHMC_object = SGHMC(dPotential_noise, dKinetic, eye(2), eye(2), eye(2), [0; 0], 2.);\n",
    "@time chain4 = mcmc(SGHMC_object, r = 10000)#, leapfrog_params = Dict([:ɛ => .009, :τ => 20]));"
   ]
  },
  {
   "cell_type": "code",
   "execution_count": null,
   "metadata": {
    "collapsed": false,
    "nbpresent": {
     "id": "a0cbc2a5-76b8-4a23-b165-1d54c8e88e2d"
    }
   },
   "outputs": [],
   "source": [
    "mapslices(mean, chain4, [1])"
   ]
  },
  {
   "cell_type": "code",
   "execution_count": null,
   "metadata": {
    "collapsed": true,
    "nbpresent": {
     "id": "579e92eb-7a18-4302-9b31-d8c79dba3a37"
    }
   },
   "outputs": [],
   "source": [
    "xy_df_sghmc = xy_df;"
   ]
  },
  {
   "cell_type": "code",
   "execution_count": null,
   "metadata": {
    "collapsed": true,
    "nbpresent": {
     "id": "c3bad9b8-7f31-4e14-92c9-fb7c34218aec"
    }
   },
   "outputs": [],
   "source": [
    "xy_df_sghmc[:Yhat] = mapslices(mean, chain3, [1])[1] + mapslices(mean, chain3, [1])[2] * xy_df_sghmc[:X];"
   ]
  },
  {
   "cell_type": "code",
   "execution_count": null,
   "metadata": {
    "collapsed": true,
    "nbpresent": {
     "id": "46e9ba26-3810-429b-ac79-28e674476199"
    }
   },
   "outputs": [],
   "source": [
    "burn_in = 1000\n",
    "for i in Array{Int64}(collect((burn_in + 1):((10000 - burn_in) / 3000):10000))\n",
    "    xy_df_sghmc[Symbol(\"Yhat_Sample_\" * string(i))] = chain4[i, 1] + chain4[i, 2] * xy_df_sghmc[:X]\n",
    "end"
   ]
  },
  {
   "cell_type": "code",
   "execution_count": null,
   "metadata": {
    "collapsed": true,
    "nbpresent": {
     "id": "0a42f5f8-a0c7-4a88-8ce1-8abec5fa78b0"
    }
   },
   "outputs": [],
   "source": [
    "xy_stack_sghmc = DataFrame(X = repeat(Array(xy_df_sghmc[:X]), outer = 3000), \n",
    "                           Y = repeat(Array(xy_df_sghmc[:Y]), outer = 3000),\n",
    "                           Var = Array(stack(xy_df_sghmc[:, 4:end])[1]),\n",
    "                           Val = Array(stack(xy_df_sghmc[:, 4:end])[2]));"
   ]
  },
  {
   "cell_type": "code",
   "execution_count": null,
   "metadata": {
    "collapsed": true,
    "nbpresent": {
     "id": "8dff0176-8f0f-44ce-a337-00e47bf1f63f"
    }
   },
   "outputs": [],
   "source": [
    "ch4cor_df = DataFrame(x = collect(0:1:(length(autocor(chain4[:, 1])) - 1)), \n",
    "                      y1 = autocor(chain4[:, 1]),\n",
    "                      y2 = autocor(chain4[:, 2]));"
   ]
  },
  {
   "cell_type": "code",
   "execution_count": null,
   "metadata": {
    "collapsed": false,
    "nbpresent": {
     "id": "0af0f380-c0b1-42a4-8b13-b779df121c49"
    },
    "scrolled": false
   },
   "outputs": [],
   "source": [
    "p0 = plot(xy_df, x = :X, y = :Y, Geom.point, style(default_point_size = .05cm), Guide.xlabel(\"Explanatory\"), Guide.ylabel(\"Response\"));\n",
    "p1 = plot(DataFrame(chain4), x = :x1, xintercept = [-.3], Geom.vline(color = colorant\"white\"), Geom.histogram(bincount = 30, density = true), Guide.xlabel(\"1st Parameter\"), Guide.ylabel(\"Density\"));\n",
    "p2 = plot(DataFrame(chain4), x = :x2, xintercept = [-.5], Geom.vline(color = colorant\"white\"), Geom.histogram(bincount = 30, density = true), Guide.xlabel(\"2nd Parameter\"), Guide.ylabel(\"Density\"));\n",
    "p3 = plot(DataFrame(chain4), x = collect(1:nrow(DataFrame(chain4))), y = :x1, yintercept = [-.3], Geom.hline(color = colorant\"white\"), Geom.line, Guide.xlabel(\"Iterations\"), Guide.ylabel(\"1st Parameter Chain Values\"));\n",
    "p4 = plot(DataFrame(chain4), x = collect(1:nrow(DataFrame(chain4))), y = :x2, yintercept = [-.5], Geom.hline(color = colorant\"white\"), Geom.line, Guide.xlabel(\"Iterations\"), Guide.ylabel(\"2nd Parameter Chain Values\"));\n",
    "p5 = plot(DataFrame(chain4), x = :x1, y = :x2, Geom.path, Geom.point, Guide.xlabel(\"1st Parameter Chain Values\"), Guide.ylabel(\"2nd Parameter Chain Values\"));\n",
    "p6 = plot(layer(xy_df_sghmc, x = :X, y = :Yhat, Geom.line, style(default_color = colorant\"white\")),\n",
    "          layer(xy_stack_sghmc, x = :X, y = :Val, group = :Var, Geom.line, style(default_color = colorant\"orange\")),\n",
    "          layer(xy_df_sghmc, x = :X, y = :Y, Geom.point, style(default_point_size = .05cm)),\n",
    "          Guide.xlabel(\"Explanatory\"), Guide.ylabel(\"Response and Predicted\"));\n",
    "p7 = plot(ch4cor_df, x = :x, y = :y1, Geom.bar, Guide.xlabel(\"Lags\"), Guide.ylabel(\"1st Parameter Autocorrelations\"), Coord.cartesian(xmin = -1, xmax = 41, ymin = -.05, ymax = 1.05));\n",
    "p8 = plot(ch4cor_df, x = :x, y = :y2, Geom.bar,  Guide.xlabel(\"Lags\"), Guide.ylabel(\"2nd Parameter Autocorrelations\"), Coord.cartesian(xmin = -1, xmax = 41, ymin = -.05, ymax = 1.05));"
   ]
  },
  {
   "cell_type": "code",
   "execution_count": null,
   "metadata": {
    "collapsed": false
   },
   "outputs": [],
   "source": [
    "draw(PNG(25cm, 25cm), vstack(hstack(p0, p1, p2), hstack(p3, p4, p5), hstack(p6, p7, p8)))"
   ]
  },
  {
   "cell_type": "code",
   "execution_count": null,
   "metadata": {
    "collapsed": true
   },
   "outputs": [],
   "source": []
  }
 ],
 "metadata": {
  "anaconda-cloud": {},
  "kernelspec": {
   "display_name": "Julia 0.5.0",
   "language": "julia",
   "name": "julia-0.5"
  },
  "language_info": {
   "file_extension": ".jl",
   "mimetype": "application/julia",
   "name": "julia",
   "version": "0.5.0"
  },
  "nbpresent": {
   "slides": {
    "01c6781d-5c8c-40dc-b4dd-404d4a9fee88": {
     "id": "01c6781d-5c8c-40dc-b4dd-404d4a9fee88",
     "prev": "65fd48e4-e6cd-4329-afa7-973301177872",
     "regions": {
      "ecc8d57d-47d3-426f-8cfc-2a21600daf85": {
       "attrs": {
        "height": 0.8,
        "width": 0.8,
        "x": 0.1,
        "y": 0.1
       },
       "content": {
        "cell": "7d3449e2-0dc0-4e6f-a1a4-5f636c61b329",
        "part": "whole"
       },
       "id": "ecc8d57d-47d3-426f-8cfc-2a21600daf85"
      }
     }
    },
    "020fb8fe-c7e2-4cd7-8ce5-a3d0068e7a53": {
     "id": "020fb8fe-c7e2-4cd7-8ce5-a3d0068e7a53",
     "prev": "7cedc933-46f6-4e45-abe1-65d6e1e5f981",
     "regions": {
      "07ccbd75-b62a-4996-9320-b07fe554332f": {
       "attrs": {
        "height": 0.8,
        "width": 0.8,
        "x": 0.1,
        "y": 0.1
       },
       "content": {
        "cell": "9973aa46-64cc-4f6a-bb97-78aed435c408",
        "part": "whole"
       },
       "id": "07ccbd75-b62a-4996-9320-b07fe554332f"
      }
     }
    },
    "05759b0e-f9fd-4657-94ca-8848f8727227": {
     "id": "05759b0e-f9fd-4657-94ca-8848f8727227",
     "prev": "7fbea81c-495f-44d8-98a1-69033acd4614",
     "regions": {
      "06764991-a721-4f99-b240-ff1e09c5736e": {
       "attrs": {
        "height": 0.8,
        "width": 0.8,
        "x": 0.1,
        "y": 0.1
       },
       "content": {
        "cell": "6eda8920-9185-45d2-b922-6e6c0b6d54d1",
        "part": "whole"
       },
       "id": "06764991-a721-4f99-b240-ff1e09c5736e"
      }
     }
    },
    "0e85fcad-16db-4354-bb3d-fa98f0519ca0": {
     "id": "0e85fcad-16db-4354-bb3d-fa98f0519ca0",
     "prev": "2e0374b6-8129-43bf-bf99-4e1f531d6ed0",
     "regions": {
      "af60531d-ad26-4628-93e4-132bad59c954": {
       "attrs": {
        "height": 0.8,
        "width": 0.8,
        "x": 0.1,
        "y": 0.1
       },
       "content": {
        "cell": "cefcf5f4-7e93-41cb-816d-5ffb1c513ab9",
        "part": "whole"
       },
       "id": "af60531d-ad26-4628-93e4-132bad59c954"
      }
     }
    },
    "0f2c13b3-51f4-4d87-b0a7-db101c16e751": {
     "id": "0f2c13b3-51f4-4d87-b0a7-db101c16e751",
     "prev": "c7b1e2a2-badd-4ca0-a387-c4f82f936651",
     "regions": {
      "38bd889b-d5a9-4a69-9aaf-16fd3fbdff5b": {
       "attrs": {
        "height": 0.8,
        "width": 0.8,
        "x": 0.1,
        "y": 0.1
       },
       "content": {
        "cell": "940cb951-dccb-475a-be64-bce3daf09067",
        "part": "whole"
       },
       "id": "38bd889b-d5a9-4a69-9aaf-16fd3fbdff5b"
      }
     }
    },
    "1803ddd1-9d6e-4c99-aaac-fddf82bc1893": {
     "id": "1803ddd1-9d6e-4c99-aaac-fddf82bc1893",
     "prev": null,
     "regions": {}
    },
    "19318457-98c0-44cb-8c51-842e832e093e": {
     "id": "19318457-98c0-44cb-8c51-842e832e093e",
     "prev": "38190cdd-12fa-484e-926c-bbe348b0d020",
     "regions": {
      "a697d0d7-c83d-47c8-883a-3dd178642d37": {
       "attrs": {
        "height": 0.8,
        "width": 0.8,
        "x": 0.1,
        "y": 0.1
       },
       "content": {
        "cell": "816b5a01-2c3c-43fb-ba90-2e78701899e4",
        "part": "whole"
       },
       "id": "a697d0d7-c83d-47c8-883a-3dd178642d37"
      }
     }
    },
    "2904d949-dae5-4392-831b-02b671d9f787": {
     "id": "2904d949-dae5-4392-831b-02b671d9f787",
     "prev": "47f6d870-8f60-45ba-883a-9f0beaf51686",
     "regions": {
      "60950eb6-9d77-4b9b-b0bb-a2cdab348682": {
       "attrs": {
        "height": 0.8,
        "width": 0.8,
        "x": 0.1,
        "y": 0.1
       },
       "content": {
        "cell": "912b6713-c0ac-4587-8369-d6ebc191eb83",
        "part": "whole"
       },
       "id": "60950eb6-9d77-4b9b-b0bb-a2cdab348682"
      }
     }
    },
    "2a6fa909-cc5e-42b6-8b59-28cb87193085": {
     "id": "2a6fa909-cc5e-42b6-8b59-28cb87193085",
     "prev": "5a8a8401-32ff-4d6c-bcf2-b026af7e5ffe",
     "regions": {
      "e062f47a-ea3c-464a-805a-67bc7dc96839": {
       "attrs": {
        "height": 0.8,
        "width": 0.8,
        "x": 0.1,
        "y": 0.1
       },
       "content": {
        "cell": "d61c02a0-f047-4ddb-9f38-2978b8075b97",
        "part": "whole"
       },
       "id": "e062f47a-ea3c-464a-805a-67bc7dc96839"
      }
     }
    },
    "2e0374b6-8129-43bf-bf99-4e1f531d6ed0": {
     "id": "2e0374b6-8129-43bf-bf99-4e1f531d6ed0",
     "prev": "8f31e802-3df4-4c1b-979e-bd82650f994e",
     "regions": {
      "3a27c5d2-bb62-4b25-b3fd-895b40ee7135": {
       "attrs": {
        "height": 0.8,
        "width": 0.8,
        "x": 0.1,
        "y": 0.1
       },
       "content": {
        "cell": "2072c80c-c2ac-478b-9a8d-cfe1e1bbeff8",
        "part": "whole"
       },
       "id": "3a27c5d2-bb62-4b25-b3fd-895b40ee7135"
      }
     }
    },
    "30a78542-eeed-45dd-aeaf-b932a6d4157d": {
     "id": "30a78542-eeed-45dd-aeaf-b932a6d4157d",
     "prev": "2904d949-dae5-4392-831b-02b671d9f787",
     "regions": {
      "45002128-d3bc-4325-ad95-5ac376ea8c12": {
       "attrs": {
        "height": 0.8,
        "width": 0.8,
        "x": 0.1,
        "y": 0.1
       },
       "content": {
        "cell": "66d06647-0e00-4bd4-a701-27f512020889",
        "part": "whole"
       },
       "id": "45002128-d3bc-4325-ad95-5ac376ea8c12"
      }
     }
    },
    "36db6b7a-23d2-4be5-92b4-fa0f40cb0706": {
     "id": "36db6b7a-23d2-4be5-92b4-fa0f40cb0706",
     "prev": "b309cc75-4bd4-4fe2-be5d-5c743e94a55d",
     "regions": {
      "4eee0ac2-fba6-4f64-b65e-1c0a3724cb09": {
       "attrs": {
        "height": 0.8,
        "width": 0.8,
        "x": 0.1,
        "y": 0.1
       },
       "content": {
        "cell": "69fb81e5-2d57-460d-906d-e0704dc23fa5",
        "part": "whole"
       },
       "id": "4eee0ac2-fba6-4f64-b65e-1c0a3724cb09"
      }
     }
    },
    "38190cdd-12fa-484e-926c-bbe348b0d020": {
     "id": "38190cdd-12fa-484e-926c-bbe348b0d020",
     "prev": "0e85fcad-16db-4354-bb3d-fa98f0519ca0",
     "regions": {
      "f4d46981-036e-4cb2-bd83-d67e867eaf03": {
       "attrs": {
        "height": 0.8,
        "width": 0.8,
        "x": 0.1,
        "y": 0.1
       },
       "content": {
        "cell": "3a90bf90-e445-41cc-92ba-ca91b8b53356",
        "part": "whole"
       },
       "id": "f4d46981-036e-4cb2-bd83-d67e867eaf03"
      }
     }
    },
    "395440bd-6734-484a-9785-3359ba8075fd": {
     "id": "395440bd-6734-484a-9785-3359ba8075fd",
     "prev": "5f4d5c15-9fba-48ee-9bb5-07575f6cdc46",
     "regions": {
      "1610b515-3db9-4056-bbbc-6474a1b966a6": {
       "attrs": {
        "height": 0.8,
        "width": 0.8,
        "x": 0.1,
        "y": 0.1
       },
       "content": {
        "cell": "23c1ca4e-b044-402b-8bb3-310e36475724",
        "part": "whole"
       },
       "id": "1610b515-3db9-4056-bbbc-6474a1b966a6"
      }
     }
    },
    "3af0a0ad-2621-488b-864a-2a53bcda35c6": {
     "id": "3af0a0ad-2621-488b-864a-2a53bcda35c6",
     "prev": "1803ddd1-9d6e-4c99-aaac-fddf82bc1893",
     "regions": {
      "1384cf03-5693-43df-bbea-6be64eecf5bb": {
       "attrs": {
        "height": 0.8,
        "width": 0.8,
        "x": 0.1,
        "y": 0.1
       },
       "content": {
        "cell": "2edd87d3-9a48-4d50-a155-d0ce5c56a19d",
        "part": "whole"
       },
       "id": "1384cf03-5693-43df-bbea-6be64eecf5bb"
      }
     }
    },
    "3b777506-f864-4186-8ff8-5146e67a092e": {
     "id": "3b777506-f864-4186-8ff8-5146e67a092e",
     "prev": "0f2c13b3-51f4-4d87-b0a7-db101c16e751",
     "regions": {
      "949031d1-9f2b-4b86-8af4-e9659ce7110b": {
       "attrs": {
        "height": 0.8,
        "width": 0.8,
        "x": 0.1,
        "y": 0.1
       },
       "content": {
        "cell": "b37ee269-cde6-4e54-a683-d36ed7c19bcc",
        "part": "whole"
       },
       "id": "949031d1-9f2b-4b86-8af4-e9659ce7110b"
      }
     }
    },
    "3fdab99e-0772-4a74-b5f2-5096c4c6dea9": {
     "id": "3fdab99e-0772-4a74-b5f2-5096c4c6dea9",
     "prev": "59fcd149-4654-4195-8b49-2e234670fa1f",
     "regions": {
      "e646fc7f-d6ce-4580-8614-589779fc7ef5": {
       "attrs": {
        "height": 0.8,
        "width": 0.8,
        "x": 0.1,
        "y": 0.1
       },
       "content": {
        "cell": "e41fc778-2c95-4c0d-805a-98b26aa0163a",
        "part": "whole"
       },
       "id": "e646fc7f-d6ce-4580-8614-589779fc7ef5"
      }
     }
    },
    "464bb5ab-0fb5-4299-a5e4-973fda3298ca": {
     "id": "464bb5ab-0fb5-4299-a5e4-973fda3298ca",
     "prev": "92881f90-2701-4936-8954-22a209d5f251",
     "regions": {
      "2787440f-c1cf-4d4e-91da-d7e6ebe296e8": {
       "attrs": {
        "height": 0.8,
        "width": 0.8,
        "x": 0.1,
        "y": 0.1
       },
       "content": {
        "cell": "e35057b0-bd70-443e-9c8a-1850d9631b15",
        "part": "whole"
       },
       "id": "2787440f-c1cf-4d4e-91da-d7e6ebe296e8"
      }
     }
    },
    "47f6d870-8f60-45ba-883a-9f0beaf51686": {
     "id": "47f6d870-8f60-45ba-883a-9f0beaf51686",
     "prev": "98697e8b-49e5-4122-97f9-476a3227a6ed",
     "regions": {
      "6cb8bd91-7a90-4d77-a733-ac320166025c": {
       "attrs": {
        "height": 0.8,
        "width": 0.8,
        "x": 0.1,
        "y": 0.1
       },
       "content": {
        "cell": "6cf7eeba-b721-4590-91ad-9f96d2e2f438",
        "part": "whole"
       },
       "id": "6cb8bd91-7a90-4d77-a733-ac320166025c"
      }
     }
    },
    "59d3ec59-949c-44b1-8d60-4771785fab18": {
     "id": "59d3ec59-949c-44b1-8d60-4771785fab18",
     "prev": "af371a7d-3640-4f33-95a0-772c395e5438",
     "regions": {
      "79ec87f0-cb41-4a49-a874-169732892fab": {
       "attrs": {
        "height": 0.8,
        "width": 0.8,
        "x": 0.1,
        "y": 0.1
       },
       "content": {
        "cell": "0734ff44-e46e-4e51-8c58-d4474f9fab51",
        "part": "whole"
       },
       "id": "79ec87f0-cb41-4a49-a874-169732892fab"
      }
     }
    },
    "59fcd149-4654-4195-8b49-2e234670fa1f": {
     "id": "59fcd149-4654-4195-8b49-2e234670fa1f",
     "prev": "c5cd94ad-e338-4d29-8e72-460b199985b0",
     "regions": {
      "4d38b077-00c5-4859-be31-fdc960cfe59c": {
       "attrs": {
        "height": 0.8,
        "width": 0.8,
        "x": 0.1,
        "y": 0.1
       },
       "content": {
        "cell": "3de19635-4ae5-4af7-9f2e-11d496dfc6ed",
        "part": "whole"
       },
       "id": "4d38b077-00c5-4859-be31-fdc960cfe59c"
      }
     }
    },
    "5a8a8401-32ff-4d6c-bcf2-b026af7e5ffe": {
     "id": "5a8a8401-32ff-4d6c-bcf2-b026af7e5ffe",
     "prev": "3af0a0ad-2621-488b-864a-2a53bcda35c6",
     "regions": {
      "69a69b93-d78f-4b9a-afd3-d4635590afb5": {
       "attrs": {
        "height": 0.8,
        "width": 0.8,
        "x": 0.1,
        "y": 0.1
       },
       "content": null,
       "id": "69a69b93-d78f-4b9a-afd3-d4635590afb5"
      }
     }
    },
    "5f4d5c15-9fba-48ee-9bb5-07575f6cdc46": {
     "id": "5f4d5c15-9fba-48ee-9bb5-07575f6cdc46",
     "prev": "93eff441-1f13-42f4-a8f8-163f46f3d67e",
     "regions": {
      "ccc88761-4006-4cea-b495-8c4592dbdbd3": {
       "attrs": {
        "height": 0.8,
        "width": 0.8,
        "x": 0.1,
        "y": 0.1
       },
       "content": {
        "cell": "0af0f380-c0b1-42a4-8b13-b779df121c49",
        "part": "whole"
       },
       "id": "ccc88761-4006-4cea-b495-8c4592dbdbd3"
      }
     }
    },
    "65fd48e4-e6cd-4329-afa7-973301177872": {
     "id": "65fd48e4-e6cd-4329-afa7-973301177872",
     "prev": "b37b03a9-2601-4f43-b901-847a64971d77",
     "regions": {
      "df48d1ac-b959-44a3-8462-32af2aa45048": {
       "attrs": {
        "height": 0.8,
        "width": 0.8,
        "x": 0.1,
        "y": 0.1
       },
       "content": {
        "cell": "2908e305-f0d9-4134-b75a-d03a5307110e",
        "part": "whole"
       },
       "id": "df48d1ac-b959-44a3-8462-32af2aa45048"
      }
     }
    },
    "70563e6b-59e7-4621-a2da-14f4ae1d06a1": {
     "id": "70563e6b-59e7-4621-a2da-14f4ae1d06a1",
     "prev": "464bb5ab-0fb5-4299-a5e4-973fda3298ca",
     "regions": {
      "1c133a7c-75cb-4038-bf89-5a47a0026114": {
       "attrs": {
        "height": 0.8,
        "width": 0.8,
        "x": 0.1,
        "y": 0.1
       },
       "content": {
        "cell": "2c07ad23-55f7-4e70-9c04-756f2838956e",
        "part": "whole"
       },
       "id": "1c133a7c-75cb-4038-bf89-5a47a0026114"
      }
     }
    },
    "7cedc933-46f6-4e45-abe1-65d6e1e5f981": {
     "id": "7cedc933-46f6-4e45-abe1-65d6e1e5f981",
     "prev": "59d3ec59-949c-44b1-8d60-4771785fab18",
     "regions": {
      "0e0bca1b-0b42-4069-9642-6e8fc2e7cef4": {
       "attrs": {
        "height": 0.8,
        "width": 0.8,
        "x": 0.1,
        "y": 0.1
       },
       "content": {
        "cell": "06e23a59-76f2-4789-89a4-1847e6a4c51a",
        "part": "whole"
       },
       "id": "0e0bca1b-0b42-4069-9642-6e8fc2e7cef4"
      }
     }
    },
    "7fbea81c-495f-44d8-98a1-69033acd4614": {
     "id": "7fbea81c-495f-44d8-98a1-69033acd4614",
     "prev": "fe993e7c-fcef-4f5b-850e-93201a96c9d7",
     "regions": {
      "99fbbd01-e8a8-44f5-8efa-af582f514144": {
       "attrs": {
        "height": 0.8,
        "width": 0.8,
        "x": 0.1,
        "y": 0.1
       },
       "content": {
        "cell": "3f760f62-f4f3-49b8-a539-65f4f1705b1d",
        "part": "whole"
       },
       "id": "99fbbd01-e8a8-44f5-8efa-af582f514144"
      }
     }
    },
    "8727699d-435c-4dab-838a-315b6cc534c8": {
     "id": "8727699d-435c-4dab-838a-315b6cc534c8",
     "prev": "d045ab97-e55d-4480-819e-b9eecf4aa40d",
     "regions": {
      "50a8ae67-52f7-4f6e-a19c-0575f8ff628a": {
       "attrs": {
        "height": 0.8,
        "width": 0.8,
        "x": 0.1,
        "y": 0.1
       },
       "content": {
        "cell": "c3bad9b8-7f31-4e14-92c9-fb7c34218aec",
        "part": "whole"
       },
       "id": "50a8ae67-52f7-4f6e-a19c-0575f8ff628a"
      }
     }
    },
    "8f31e802-3df4-4c1b-979e-bd82650f994e": {
     "id": "8f31e802-3df4-4c1b-979e-bd82650f994e",
     "prev": "cb83ddc7-2151-495c-abe2-338a1407197d",
     "regions": {
      "c74d9137-22ac-4c79-beff-1a0b56ad4dd4": {
       "attrs": {
        "height": 0.8,
        "width": 0.8,
        "x": 0.1,
        "y": 0.1
       },
       "content": {
        "cell": "4d76e792-662d-496f-9d01-0d27c07b3c38",
        "part": "whole"
       },
       "id": "c74d9137-22ac-4c79-beff-1a0b56ad4dd4"
      }
     }
    },
    "92881f90-2701-4936-8954-22a209d5f251": {
     "id": "92881f90-2701-4936-8954-22a209d5f251",
     "prev": "020fb8fe-c7e2-4cd7-8ce5-a3d0068e7a53",
     "regions": {
      "a584bc04-6e01-40e7-92e8-5f6d1226496c": {
       "attrs": {
        "height": 0.8,
        "width": 0.8,
        "x": 0.1,
        "y": 0.1
       },
       "content": {
        "cell": "0d8c5172-565c-4363-99f6-e48f5d744187",
        "part": "whole"
       },
       "id": "a584bc04-6e01-40e7-92e8-5f6d1226496c"
      }
     }
    },
    "93eff441-1f13-42f4-a8f8-163f46f3d67e": {
     "id": "93eff441-1f13-42f4-a8f8-163f46f3d67e",
     "prev": "c2bffc55-ad8a-4e4e-aec3-64341eb7f8b2",
     "regions": {
      "dc71657f-fa08-4014-a491-9a0ca49fa4b2": {
       "attrs": {
        "height": 0.8,
        "width": 0.8,
        "x": 0.1,
        "y": 0.1
       },
       "content": {
        "cell": "8dff0176-8f0f-44ce-a337-00e47bf1f63f",
        "part": "whole"
       },
       "id": "dc71657f-fa08-4014-a491-9a0ca49fa4b2"
      }
     }
    },
    "98697e8b-49e5-4122-97f9-476a3227a6ed": {
     "id": "98697e8b-49e5-4122-97f9-476a3227a6ed",
     "prev": "3fdab99e-0772-4a74-b5f2-5096c4c6dea9",
     "regions": {
      "7633fafa-e55d-40a5-8fe8-588a7c8d92aa": {
       "attrs": {
        "height": 0.8,
        "width": 0.8,
        "x": 0.1,
        "y": 0.1
       },
       "content": {
        "cell": "a4c77fa8-263c-4a4e-b3f0-db93e281ecf6",
        "part": "whole"
       },
       "id": "7633fafa-e55d-40a5-8fe8-588a7c8d92aa"
      }
     }
    },
    "9e8ffeb8-dce6-4b5d-8d14-488cc418a71e": {
     "id": "9e8ffeb8-dce6-4b5d-8d14-488cc418a71e",
     "prev": "395440bd-6734-484a-9785-3359ba8075fd",
     "regions": {
      "2327e357-99bb-4708-8ea8-e163baa7e222": {
       "attrs": {
        "height": 0.8,
        "width": 0.8,
        "x": 0.1,
        "y": 0.1
       },
       "content": {
        "cell": "39d357d6-0eff-4459-92bd-47c61708a36e",
        "part": "whole"
       },
       "id": "2327e357-99bb-4708-8ea8-e163baa7e222"
      }
     }
    },
    "af371a7d-3640-4f33-95a0-772c395e5438": {
     "id": "af371a7d-3640-4f33-95a0-772c395e5438",
     "prev": "19318457-98c0-44cb-8c51-842e832e093e",
     "regions": {
      "2141421b-50d0-4e0d-8fd9-cfa1a53f46dc": {
       "attrs": {
        "height": 0.8,
        "width": 0.8,
        "x": 0.1,
        "y": 0.1
       },
       "content": {
        "cell": "23fccde9-3940-4f78-9c6b-1c9ca5d452da",
        "part": "whole"
       },
       "id": "2141421b-50d0-4e0d-8fd9-cfa1a53f46dc"
      }
     }
    },
    "b309cc75-4bd4-4fe2-be5d-5c743e94a55d": {
     "id": "b309cc75-4bd4-4fe2-be5d-5c743e94a55d",
     "prev": "70563e6b-59e7-4621-a2da-14f4ae1d06a1",
     "regions": {
      "f538cef4-625d-4078-bc83-7560f0119cbb": {
       "attrs": {
        "height": 0.8,
        "width": 0.8,
        "x": 0.1,
        "y": 0.1
       },
       "content": {
        "cell": "aa91024f-463c-4607-a30f-a29f6bf99bcb",
        "part": "whole"
       },
       "id": "f538cef4-625d-4078-bc83-7560f0119cbb"
      }
     }
    },
    "b37b03a9-2601-4f43-b901-847a64971d77": {
     "id": "b37b03a9-2601-4f43-b901-847a64971d77",
     "prev": "ee89733f-0301-4b2d-b6a1-d0de1878a7b5",
     "regions": {
      "aa0dcb12-f3df-4a9a-9829-251e21af79a7": {
       "attrs": {
        "height": 0.8,
        "width": 0.8,
        "x": 0.1,
        "y": 0.1
       },
       "content": {
        "cell": "ee8b4b60-9c6b-4804-a89a-425036f1fa58",
        "part": "whole"
       },
       "id": "aa0dcb12-f3df-4a9a-9829-251e21af79a7"
      }
     }
    },
    "b849f365-5043-4aa7-a360-8b3d4986537e": {
     "id": "b849f365-5043-4aa7-a360-8b3d4986537e",
     "prev": "01c6781d-5c8c-40dc-b4dd-404d4a9fee88",
     "regions": {
      "c2e30bde-0e23-4a38-8c98-0eab3873d709": {
       "attrs": {
        "height": 0.8,
        "width": 0.8,
        "x": 0.1,
        "y": 0.1
       },
       "content": {
        "cell": "a0cbc2a5-76b8-4a23-b165-1d54c8e88e2d",
        "part": "whole"
       },
       "id": "c2e30bde-0e23-4a38-8c98-0eab3873d709"
      }
     }
    },
    "c2bffc55-ad8a-4e4e-aec3-64341eb7f8b2": {
     "id": "c2bffc55-ad8a-4e4e-aec3-64341eb7f8b2",
     "prev": "f1850212-5d7c-42fd-ab52-2f794fa818c4",
     "regions": {
      "85f9416e-beb6-4d63-8f03-d19e62f729ab": {
       "attrs": {
        "height": 0.8,
        "width": 0.8,
        "x": 0.1,
        "y": 0.1
       },
       "content": {
        "cell": "0a42f5f8-a0c7-4a88-8ce1-8abec5fa78b0",
        "part": "whole"
       },
       "id": "85f9416e-beb6-4d63-8f03-d19e62f729ab"
      }
     }
    },
    "c5cd94ad-e338-4d29-8e72-460b199985b0": {
     "id": "c5cd94ad-e338-4d29-8e72-460b199985b0",
     "prev": "fbaf74ad-c546-42c7-b0e6-d71c25cb7c2e",
     "regions": {
      "a1010eee-75aa-4325-9b16-9108bbc2174c": {
       "attrs": {
        "height": 0.8,
        "width": 0.8,
        "x": 0.1,
        "y": 0.1
       },
       "content": {
        "cell": "a1de466f-d803-4941-9e4e-f06b3f86d8bc",
        "part": "whole"
       },
       "id": "a1010eee-75aa-4325-9b16-9108bbc2174c"
      }
     }
    },
    "c7b1e2a2-badd-4ca0-a387-c4f82f936651": {
     "id": "c7b1e2a2-badd-4ca0-a387-c4f82f936651",
     "prev": "ca8063dc-696f-4307-8c69-dbd94cf10029",
     "regions": {
      "c46af452-fa73-499f-86d5-4ae9c94e777e": {
       "attrs": {
        "height": 0.8,
        "width": 0.8,
        "x": 0.1,
        "y": 0.1
       },
       "content": {
        "cell": "0cd73c19-1f37-4762-81fa-9ecc41149751",
        "part": "whole"
       },
       "id": "c46af452-fa73-499f-86d5-4ae9c94e777e"
      }
     }
    },
    "ca8063dc-696f-4307-8c69-dbd94cf10029": {
     "id": "ca8063dc-696f-4307-8c69-dbd94cf10029",
     "prev": "05759b0e-f9fd-4657-94ca-8848f8727227",
     "regions": {
      "a3b38cf6-857f-4066-bd73-76a41142e34e": {
       "attrs": {
        "height": 0.8,
        "width": 0.8,
        "x": 0.1,
        "y": 0.1
       },
       "content": {
        "cell": "b278e28b-3533-4e48-9a8f-02d0d5bf0f7f",
        "part": "whole"
       },
       "id": "a3b38cf6-857f-4066-bd73-76a41142e34e"
      }
     }
    },
    "cb83ddc7-2151-495c-abe2-338a1407197d": {
     "id": "cb83ddc7-2151-495c-abe2-338a1407197d",
     "prev": "30a78542-eeed-45dd-aeaf-b932a6d4157d",
     "regions": {
      "cebed092-3cc4-4c58-9ca4-f74ecfc05b32": {
       "attrs": {
        "height": 0.8,
        "width": 0.8,
        "x": 0.1,
        "y": 0.1
       },
       "content": {
        "cell": "3452dcd7-a952-4072-8973-298be3984401",
        "part": "whole"
       },
       "id": "cebed092-3cc4-4c58-9ca4-f74ecfc05b32"
      }
     }
    },
    "d045ab97-e55d-4480-819e-b9eecf4aa40d": {
     "id": "d045ab97-e55d-4480-819e-b9eecf4aa40d",
     "prev": "b849f365-5043-4aa7-a360-8b3d4986537e",
     "regions": {
      "4650a940-799e-44a0-a3e7-77da7fd37473": {
       "attrs": {
        "height": 0.8,
        "width": 0.8,
        "x": 0.1,
        "y": 0.1
       },
       "content": {
        "cell": "579e92eb-7a18-4302-9b31-d8c79dba3a37",
        "part": "whole"
       },
       "id": "4650a940-799e-44a0-a3e7-77da7fd37473"
      }
     }
    },
    "ee89733f-0301-4b2d-b6a1-d0de1878a7b5": {
     "id": "ee89733f-0301-4b2d-b6a1-d0de1878a7b5",
     "prev": "3b777506-f864-4186-8ff8-5146e67a092e",
     "regions": {
      "cb6778b8-3cc8-4174-a345-6014371773e6": {
       "attrs": {
        "height": 0.8,
        "width": 0.8,
        "x": 0.1,
        "y": 0.1
       },
       "content": {
        "cell": "a9b6310c-dd8c-4a69-88a2-3d5f33b2aa4b",
        "part": "whole"
       },
       "id": "cb6778b8-3cc8-4174-a345-6014371773e6"
      }
     }
    },
    "f1850212-5d7c-42fd-ab52-2f794fa818c4": {
     "id": "f1850212-5d7c-42fd-ab52-2f794fa818c4",
     "prev": "8727699d-435c-4dab-838a-315b6cc534c8",
     "regions": {
      "6e6635a6-34bb-4cda-97b1-1ab1cf0ac87f": {
       "attrs": {
        "height": 0.8,
        "width": 0.8,
        "x": 0.1,
        "y": 0.1
       },
       "content": {
        "cell": "46e9ba26-3810-429b-ac79-28e674476199",
        "part": "whole"
       },
       "id": "6e6635a6-34bb-4cda-97b1-1ab1cf0ac87f"
      }
     }
    },
    "fbaf74ad-c546-42c7-b0e6-d71c25cb7c2e": {
     "id": "fbaf74ad-c546-42c7-b0e6-d71c25cb7c2e",
     "prev": "2a6fa909-cc5e-42b6-8b59-28cb87193085",
     "regions": {
      "0a6502eb-fac5-46e4-85cb-d8635590bf93": {
       "attrs": {
        "height": 0.8,
        "width": 0.8,
        "x": 0.1,
        "y": 0.1
       },
       "content": {
        "cell": "009802b5-1388-4397-916e-6ad725c32fe7",
        "part": "whole"
       },
       "id": "0a6502eb-fac5-46e4-85cb-d8635590bf93"
      }
     }
    },
    "fe993e7c-fcef-4f5b-850e-93201a96c9d7": {
     "id": "fe993e7c-fcef-4f5b-850e-93201a96c9d7",
     "prev": "36db6b7a-23d2-4be5-92b4-fa0f40cb0706",
     "regions": {
      "1e1267fc-390a-4a45-967a-372e4c6a776c": {
       "attrs": {
        "height": 0.8,
        "width": 0.8,
        "x": 0.1,
        "y": 0.1
       },
       "content": {
        "cell": "65298aa2-509d-4b0c-9aad-a1611f4f581d",
        "part": "whole"
       },
       "id": "1e1267fc-390a-4a45-967a-372e4c6a776c"
      }
     }
    }
   },
   "themes": {}
  }
 },
 "nbformat": 4,
 "nbformat_minor": 1
}
