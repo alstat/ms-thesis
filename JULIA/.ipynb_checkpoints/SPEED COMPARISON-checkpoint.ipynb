{
 "cells": [
  {
   "cell_type": "code",
   "execution_count": null,
   "metadata": {
    "collapsed": true
   },
   "outputs": [],
   "source": []
  },
  {
   "cell_type": "code",
   "execution_count": 2,
   "metadata": {
    "collapsed": false
   },
   "outputs": [],
   "source": [
    "potential(x::AbstractArray{Float64}; μ::AbstractArray{Float64} = [10.; 10], Σ::AbstractArray{Float64} = eye(2)) = (x - μ)' * (Σ)^(-1) * (x - μ);\n",
    "dpotential(x::AbstractArray{Float64}; μ::AbstractArray{Float64} = [10.; 10], Σ::AbstractArray{Float64} = eye(2)) = (Σ)^(-1) * (x - μ);\n",
    "kinetic(p::AbstractArray{Float64}; Σ::Array{Float64} = eye(length(p))) = (p' * inv(Σ) * p) / 2;\n",
    "dkinetic(p::AbstractArray{Float64}; Σ::Array{Float64} = eye(length(p))) = inv(Σ) * p;"
   ]
  },
  {
   "cell_type": "markdown",
   "metadata": {},
   "source": [
    "HAMILTONIAN MONTE CARLO"
   ]
  },
  {
   "cell_type": "code",
   "execution_count": 3,
   "metadata": {
    "collapsed": false
   },
   "outputs": [
    {
     "ename": "LoadError",
     "evalue": "UndefVarError: HMC not defined",
     "output_type": "error",
     "traceback": [
      "UndefVarError: HMC not defined",
      ""
     ]
    }
   ],
   "source": [
    "HMC_object = HMC(potential, kinetic, dpotential, dkinetic, [0; 0], 2);\n",
    "@time weights = hmc(HMC_object);"
   ]
  },
  {
   "cell_type": "code",
   "execution_count": 10,
   "metadata": {
    "collapsed": false
   },
   "outputs": [
    {
     "name": "stdout",
     "output_type": "stream",
     "text": [
      "[9.94559 9.51106]"
     ]
    }
   ],
   "source": [
    "# Plot the Samples\n",
    "mapslices(mean, weights, [1]) |> print"
   ]
  },
  {
   "cell_type": "markdown",
   "metadata": {},
   "source": [
    "STOCHASTIC GRADIENT HAMILTONIAN MONTE CARLO"
   ]
  },
  {
   "cell_type": "code",
   "execution_count": 11,
   "metadata": {
    "collapsed": false
   },
   "outputs": [
    {
     "name": "stdout",
     "output_type": "stream",
     "text": [
      "  2.183180 seconds (2.17 M allocations: 110.827 MB, 1.22% gc time)\n"
     ]
    }
   ],
   "source": [
    "SGHMC_object = SGHMC(dpotential, dkinetic, eye(2), eye(2), eye(2), [0; 0], 2);\n",
    "@time weights1 = sghmc(SGHMC_object);"
   ]
  },
  {
   "cell_type": "code",
   "execution_count": 12,
   "metadata": {
    "collapsed": false
   },
   "outputs": [
    {
     "data": {
      "text/plain": [
       "1×2 Array{Float64,2}:\n",
       " 9.88426  9.82768"
      ]
     },
     "execution_count": 12,
     "metadata": {},
     "output_type": "execute_result"
    }
   ],
   "source": [
    "# Plot the Samples\n",
    "mapslices(mean, weights1, [1])"
   ]
  },
  {
   "cell_type": "markdown",
   "metadata": {},
   "source": [
    "II. BAYESIAN LINEAR REGRESSION"
   ]
  },
  {
   "cell_type": "code",
   "execution_count": 4,
   "metadata": {
    "collapsed": false
   },
   "outputs": [
    {
     "ename": "LoadError",
     "evalue": "UndefVarError: Uniform not defined",
     "output_type": "error",
     "traceback": [
      "UndefVarError: Uniform not defined",
      ""
     ]
    }
   ],
   "source": [
    "srand(123);\n",
    "w0 = .2; w1 = -.9; stdev = 5.;\n",
    "\n",
    "# Define data parameters\n",
    "alpha = 1 / stdev; # for likelihood\n",
    "\n",
    "# Generate Hypothetical Data\n",
    "n = 5000\n",
    "x = rand(Uniform(-1, 1), n);\n",
    "A = [ones(length(x)) x];\n",
    "B = [w0; w1];\n",
    "f = A * B\n",
    "y = f + rand(Normal(0, alpha), n)\n",
    "\n",
    "# Define Hyperparameters\n",
    "Imat = diagm(ones(2), 0)\n",
    "b = 2. # for prior\n",
    "b1 = (1 / b)^2 # Square this since in Julia, rnorm uses standard dev\n",
    "\n",
    "mu = zeros(2) # for prior\n",
    "s = b1 * Imat # for prior\n",
    "\n",
    "# The log likelihood function is given by the following codes:\n",
    "\n",
    "function loglike(theta::Array{Float64}; alpha::Float64 = alpha, x::Array{Float64} = x, y::Array{Float64} = y)\n",
    "  yhat = theta[1] + theta[2]*x\n",
    "\n",
    "  likhood = Float64[]\n",
    "  for i in 1:length(yhat)\n",
    "    push!(likhood, pdf(Normal(yhat[i], alpha), y[i]))\n",
    "  end\n",
    "\n",
    "  return likhood |> sum\n",
    "end\n",
    "\n",
    "# Define the log prior and lo posterior\n",
    "\n",
    "function logprior(theta::Array{Float64}; mu::Array{Float64} = mu, s::Array{Float64} = s)\n",
    "  w0_prior = log(pdf(Normal(mu[1, 1], s[1, 1]), theta[1]))\n",
    "  w1_prior = log(pdf(Normal(mu[2, 1], s[2, 2]), theta[2]))\n",
    "   w_prior = [w0_prior w1_prior]\n",
    "\n",
    "  return w_prior |> sum\n",
    "end\n",
    "\n",
    "function logpost(theta::Array{Float64})\n",
    "  loglike(theta, alpha = alpha, x = x, y = y) + logprior(theta, mu = mu, s = s)\n",
    "end\n",
    "\n",
    "U(theta::Array{Float64}) = - logpost(theta)\n",
    "K(p::Array{Float64}; Σ = eye(length(p))) = (p' * inv(Σ) * p) / 2\n",
    "function dPotential(theta::Array{Float64}; alpha::Float64 = 1/5., b::Float64 = 2.)\n",
    "  [-alpha * sum(y - (theta[1] + theta[2] * x));\n",
    "   -alpha * sum((y - (theta[1] + theta[2] * x)) .* x)] + b * theta\n",
    "end\n",
    "function dPotential_noise(theta::Array{Float64}; alpha::Float64 = 1/5., b::Float64 = 2.)\n",
    "  [-alpha * sum(y - (theta[1] + theta[2] * x));\n",
    "   -alpha * sum((y - (theta[1] + theta[2] * x)) .* x)] + b * theta + randn(2,1)\n",
    "end\n",
    "dKinetic(p::AbstractArray{Float64}; Σ::Array{Float64} = eye(length(p))) = inv(Σ) * p;"
   ]
  },
  {
   "cell_type": "markdown",
   "metadata": {},
   "source": [
    "HAMILTONIAN MONTE CARLO"
   ]
  },
  {
   "cell_type": "code",
   "execution_count": 44,
   "metadata": {
    "collapsed": false
   },
   "outputs": [
    {
     "name": "stdout",
     "output_type": "stream",
     "text": [
      " 36.048199 seconds (18.86 M allocations: 43.907 GB, 17.86% gc time)\n"
     ]
    }
   ],
   "source": [
    "HMC_object2 = HMC(U, K, dPotential, dKinetic, zeros(2, 1), 2);\n",
    "\n",
    "# Sample\n",
    "@time weights = hmc(HMC_object2, leapfrog_params = Dict([:ɛ => .009, :τ => 20]), r = 10000);"
   ]
  },
  {
   "cell_type": "code",
   "execution_count": 45,
   "metadata": {
    "collapsed": false
   },
   "outputs": [
    {
     "name": "stdout",
     "output_type": "stream",
     "text": [
      "[0.19758 -0.89852]"
     ]
    }
   ],
   "source": [
    "# Plot the Samples\n",
    "mapslices(mean, weights, [1]) |> print"
   ]
  },
  {
   "cell_type": "markdown",
   "metadata": {},
   "source": [
    "STOCHASTIC HAMILTONIAN MONTE CARLO"
   ]
  },
  {
   "cell_type": "code",
   "execution_count": 49,
   "metadata": {
    "collapsed": false
   },
   "outputs": [
    {
     "name": "stdout",
     "output_type": "stream",
     "text": [
      " 39.865837 seconds (19.44 M allocations: 53.038 GB, 18.26% gc time)\n"
     ]
    }
   ],
   "source": [
    "SGHMC_object = SGHMC(dPotential_noise, dKinetic, eye(2), eye(2), eye(2), [0; 0], 2.);\n",
    "\n",
    "@time weights1 = sghmc(SGHMC_object, leapfrog_params = Dict([:ɛ => .009, :τ => 20]), r = 10000);"
   ]
  },
  {
   "cell_type": "code",
   "execution_count": 1,
   "metadata": {
    "collapsed": false
   },
   "outputs": [
    {
     "ename": "LoadError",
     "evalue": "UndefVarError: weights1 not defined",
     "output_type": "error",
     "traceback": [
      "UndefVarError: weights1 not defined",
      ""
     ]
    }
   ],
   "source": [
    "mapslices(mean, weights1[(!isnan(weights1[:, 1]) |> find), :], [1]) |> print"
   ]
  },
  {
   "cell_type": "code",
   "execution_count": 32,
   "metadata": {
    "collapsed": false
   },
   "outputs": [
    {
     "data": {
      "text/plain": [
       "10000×2 Array{Float64,2}:\n",
       " 0.0944916  -0.165843\n",
       " 0.140754   -0.297482\n",
       " 0.171977   -0.410829\n",
       " 0.181351   -0.505768\n",
       " 0.187612   -0.578559\n",
       " 0.197242   -0.631395\n",
       " 0.199307   -0.682218\n",
       " 0.200429   -0.722901\n",
       " 0.194348   -0.751958\n",
       " 0.195323   -0.775594\n",
       " 0.198786   -0.796964\n",
       " 0.197339   -0.815871\n",
       " 0.196402   -0.821029\n",
       " ⋮                   \n",
       " 0.200341   -0.881181\n",
       " 0.195326   -0.881028\n",
       " 0.2007     -0.881539\n",
       " 0.197813   -0.88364 \n",
       " 0.19783    -0.891275\n",
       " 0.188976   -0.888447\n",
       " 0.182457   -0.880492\n",
       " 0.185792   -0.879157\n",
       " 0.190915   -0.878352\n",
       " 0.192335   -0.876387\n",
       " 0.18821    -0.877971\n",
       " 0.192075   -0.882459"
      ]
     },
     "execution_count": 32,
     "metadata": {},
     "output_type": "execute_result"
    }
   ],
   "source": [
    "weights1"
   ]
  },
  {
   "cell_type": "code",
   "execution_count": null,
   "metadata": {
    "collapsed": true
   },
   "outputs": [],
   "source": []
  }
 ],
 "metadata": {
  "anaconda-cloud": {},
  "kernelspec": {
   "display_name": "Julia 0.5.0",
   "language": "julia",
   "name": "julia-0.5"
  },
  "language_info": {
   "file_extension": ".jl",
   "mimetype": "application/julia",
   "name": "julia",
   "version": "0.5.0"
  }
 },
 "nbformat": 4,
 "nbformat_minor": 1
}
