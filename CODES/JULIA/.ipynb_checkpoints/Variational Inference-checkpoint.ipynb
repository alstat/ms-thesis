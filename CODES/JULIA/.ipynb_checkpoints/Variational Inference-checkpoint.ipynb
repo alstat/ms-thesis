{
 "cells": [
  {
   "cell_type": "markdown",
   "metadata": {},
   "source": [
    "# Variational Inference in Julia"
   ]
  },
  {
   "cell_type": "markdown",
   "metadata": {},
   "source": [
    "In this notebook, we explore the application of variational inference in estimating unknown parameters. To begin, we start by taking samples from a Gaussian distribution with mean 15 and standard deviation .3 (or precision = 1/.3), these are the parameters that we wish to estimate. For purpose of mathematical convenience, we do the computations in terms of precision rather than standard deviation"
   ]
  },
  {
   "cell_type": "code",
   "execution_count": 16,
   "metadata": {
    "collapsed": false
   },
   "outputs": [],
   "source": [
    "srand(123)\n",
    "\n",
    "using Distributions\n",
    "using DataFrames"
   ]
  },
  {
   "cell_type": "code",
   "execution_count": 37,
   "metadata": {
    "collapsed": false
   },
   "outputs": [],
   "source": [
    "K = 100\n",
    "D = rand(Normal(15, 1/.3), K);"
   ]
  },
  {
   "cell_type": "markdown",
   "metadata": {},
   "source": [
    "Initialize $\\lambda$ and the hyperparameters $\\lambda_0, \\mu_0$ and $a_0$:"
   ]
  },
  {
   "cell_type": "code",
   "execution_count": 39,
   "metadata": {
    "collapsed": false
   },
   "outputs": [],
   "source": [
    "λ, λ0, μ0, a0 = .3, .2, .6, .4;"
   ]
  },
  {
   "cell_type": "markdown",
   "metadata": {},
   "source": [
    "Compute the sum of the data:"
   ]
  },
  {
   "cell_type": "code",
   "execution_count": 41,
   "metadata": {
    "collapsed": false
   },
   "outputs": [],
   "source": [
    "∑1, ∑2, D_ave = sum(D), sum(D.^2), mean(D);"
   ]
  },
  {
   "cell_type": "markdown",
   "metadata": {},
   "source": [
    "Compute $\\mu_k$ and $a_k$"
   ]
  },
  {
   "cell_type": "code",
   "execution_count": 45,
   "metadata": {
    "collapsed": false
   },
   "outputs": [],
   "source": [
    "μk, ak = (λ0*μ0 + K*D_ave) / (λ0 + K), a0 + (K + 1) / 2;"
   ]
  },
  {
   "cell_type": "code",
   "execution_count": 46,
   "metadata": {
    "collapsed": false
   },
   "outputs": [
    {
     "data": {
      "text/plain": [
       "100-element Array{Float64,1}:\n",
       " 0.0\n",
       " 0.0\n",
       " 0.0\n",
       " 0.0\n",
       " 0.0\n",
       " 0.0\n",
       " 0.0\n",
       " 0.0\n",
       " 0.0\n",
       " 0.0\n",
       " 0.0\n",
       " 0.0\n",
       " 0.0\n",
       " ⋮  \n",
       " 0.0\n",
       " 0.0\n",
       " 0.0\n",
       " 0.0\n",
       " 0.0\n",
       " 0.0\n",
       " 0.0\n",
       " 0.0\n",
       " 0.0\n",
       " 0.0\n",
       " 0.0\n",
       " 0.0"
      ]
     },
     "execution_count": 46,
     "metadata": {},
     "output_type": "execute_result"
    }
   ],
   "source": [
    "λkr, bkr = zeros(K), zeros(K)\n",
    "\n",
    "i, ν = 1, .0001\n",
    "while abs(λkr[i] - λkr[i + 1]) > ν\n",
    "    bkr[i] = (K + λ0) * (1 / λkr[i] + (μk ^ 2)) - 2 * μk * (∑1 + λ0 * μ0) + ∑2 - λ0 * μ0^2\n",
    "    λkr[i + 1] = (λ0 + K) * ak * (1 / bkr[i])\n",
    "    "
   ]
  },
  {
   "cell_type": "code",
   "execution_count": null,
   "metadata": {
    "collapsed": true
   },
   "outputs": [],
   "source": []
  }
 ],
 "metadata": {
  "kernelspec": {
   "display_name": "Julia 0.4.5",
   "language": "julia",
   "name": "julia-0.4"
  },
  "language_info": {
   "file_extension": ".jl",
   "mimetype": "application/julia",
   "name": "julia",
   "version": "0.4.5"
  }
 },
 "nbformat": 4,
 "nbformat_minor": 0
}
