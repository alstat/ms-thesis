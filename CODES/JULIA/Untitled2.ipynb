{
 "cells": [
  {
   "cell_type": "code",
   "execution_count": 1,
   "metadata": {
    "collapsed": false
   },
   "outputs": [
    {
     "data": {
      "text/plain": [
       "(\"black\",\"white\",\"#848482\",\"dotted\",8)"
      ]
     },
     "execution_count": 1,
     "metadata": {},
     "output_type": "execute_result"
    }
   ],
   "source": [
    "using StatsBase\n",
    "using Distributions\n",
    "using PyPlot\n",
    "\n",
    "col, bgcol, grdcol, lty, ticksize = (\"black\", \"white\", \"#848482\", \"dotted\", 8)"
   ]
  },
  {
   "cell_type": "code",
   "execution_count": 3,
   "metadata": {
    "collapsed": false
   },
   "outputs": [
    {
     "data": {
      "text/plain": [
       "xyplot (generic function with 1 method)"
      ]
     },
     "execution_count": 3,
     "metadata": {},
     "output_type": "execute_result"
    }
   ],
   "source": [
    "function xyplot(x::AbstractArray{Float64, 1}, y::AbstractArray{Float64, 1}; xlab::AbstractString = \"\", ylab::AbstractString  = \"\",\n",
    "  xlab_fontsize::Int = 15, ylab_fontsize::Int = 15,\n",
    "  color::AbstractString = \"\", bgcol::AbstractString = \"#FFFFFF\",\n",
    "  marker::AbstractString = \"o\", markersize::Int = 5, grid_lty::AbstractString = \"solid\",\n",
    "  linestyle::AbstractString = \"None\", linewidth::Float64 = 1.5, ticksize::Int = 12, grid_color::AbstractString = \"#F2F3F4\",\n",
    "  figsize::Tuple = (6, 6), file_name::AbstractString = \"\", save::Bool = true, add::Bool = false, panel::Function = function fun() end)\n",
    "    matplotlib[:rc](\"font\", family = \"Arial\")\n",
    "    matplotlib[:rc](\"xtick\", direction = \"out\")\n",
    "    matplotlib[:rc](\"ytick\", direction = \"out\")\n",
    "\n",
    "    \"\"\" X-Y PLOT\n",
    "    --------------------------\n",
    "    x - input for x-axis\n",
    "    y - input for y-axis\n",
    "    \"\"\"\n",
    "\n",
    "    if add == true\n",
    "      plt[:gcf]()\n",
    "      plt[:gca]()\n",
    "      if color == \"\"\n",
    "        plt[:plot](x, y, marker = marker, markersize = markersize, linestyle = linestyle, linewidth = linewidth)\n",
    "      else\n",
    "        plt[:plot](x, y, color = color, marker = marker, markersize = markersize, linestyle = linestyle, linewidth = linewidth)\n",
    "      end\n",
    "    else\n",
    "      plt[:cla](); plt[:clf]()\n",
    "      f, ax = subplots(figsize = figsize)\n",
    "      if color == \"\"\n",
    "        plt[:plot](x, y, marker = marker, markersize = markersize, linestyle = linestyle, linewidth = linewidth)\n",
    "      else\n",
    "        plt[:plot](x, y, color = color, marker = marker, markersize = markersize, linestyle = linestyle, linewidth = linewidth)\n",
    "      end\n",
    "      plt[:minorticks_on]()\n",
    "      ax[:set_xlabel](xlab, fontsize = xlab_fontsize)\n",
    "      ax[:set_ylabel](ylab, fontsize = ylab_fontsize)\n",
    "      ax[:grid](\"on\", which = \"major\", color = grid_color, linestyle = grid_lty)\n",
    "      ax[:set_axis_bgcolor](bgcol)\n",
    "      ax[:tick_params](axis = \"both\", which = \"major\", labelsize = ticksize, pad = 5)\n",
    "      ax[:tick_params](axis = \"both\", which = \"minor\", labelsize = ticksize, pad = 5)\n",
    "      ax[:set_axisbelow](\"on\")\n",
    "      ax[:locator_params](axis = \"x\", nbins = 7, tight = true)\n",
    "      ax[:locator_params](axis = \"y\", nbins = 7, tight = true)\n",
    "      ax[:margins](.03)\n",
    "    end\n",
    "\n",
    "    if save == true\n",
    "      if file_name == \"\"\n",
    "        savefig(joinpath(pwd(), \"Current Plot.png\"), bbox_inches = \"tight\", dpi = 200)\n",
    "        plt[:cla]()\n",
    "        plt[:clf]()\n",
    "        plt[:close]()\n",
    "      else\n",
    "        savefig(file_name, bbox_inches = \"tight\", dpi = 200)\n",
    "        plt[:cla]()\n",
    "        plt[:clf]()\n",
    "        plt[:close]()\n",
    "      end\n",
    "    else\n",
    "      plt[:show]()\n",
    "    end\n",
    "end\n"
   ]
  },
  {
   "cell_type": "code",
   "execution_count": 4,
   "metadata": {
    "collapsed": true
   },
   "outputs": [],
   "source": [
    "using PyPlot\n",
    "using StatsBase: fit, Histogram\n",
    "\n",
    "nsample = 80000;\n",
    "xStep = 0.01;\n",
    "m = 1; # dK\n",
    "C = 3;\n",
    "dt = 0.1;\n",
    "nstep = 50;\n",
    "V = 4;\n",
    "\n",
    "\n",
    "srand(1234);\n",
    "\n",
    "r = 80000;\n",
    "xStep = 0.01;\n",
    "ɛ = .1;\n",
    "τ = 50;\n",
    "\n",
    "# set up functions\n",
    "U(x) = -2(x.^2) + x.^4;\n",
    "dU(x) = -4x + 4(x.^3);\n",
    "dU2(x) = -4x + 4(x.^3) + 2*rand(Normal());\n",
    "K(p) = (p * p) / 2;\n",
    "dK(p) = p;\n",
    "H(x, p) = U(x) + K(p);\n",
    "\n",
    "\n",
    "#gradUPerfect(x) = -4x + 4(x.^3);\n",
    "\"\"\"\n",
    "HMC without noise with M-H\n",
    "\"\"\"\n",
    "x1 = Array{Float64, 1}(); push!(x1, 0)\n",
    "\n",
    "for n in 1:(r - 1)\n",
    "  xNew = x1[n]\n",
    "  p = rand(Normal())\n",
    "  oldE = H(xNew, p)\n",
    "\n",
    "  for τ_i in 1:τ\n",
    "    p = p - (ɛ / 2) * dU(xNew)\n",
    "    xNew = xNew + ɛ * dK(p)\n",
    "    p = p - (ɛ / 2) * dU(xNew)\n",
    "  end\n",
    "\n",
    "  newE = H(xNew, p)\n",
    "  dE = newE - oldE\n",
    "\n",
    "  if dE < 0\n",
    "    push!(x1, xNew)\n",
    "  elseif rand(Uniform()) < exp(-dE)\n",
    "    push!(x1, xNew)\n",
    "  else\n",
    "    push!(x1, x1[n])\n",
    "  end\n",
    "\n",
    "end"
   ]
  },
  {
   "cell_type": "code",
   "execution_count": 5,
   "metadata": {
    "collapsed": true
   },
   "outputs": [],
   "source": [
    "\"\"\"\n",
    "HMC without noise with no M-H\n",
    "\"\"\"\n",
    "x2 = Array{Float64, 1}(); push!(x2, 0)\n",
    "\n",
    "for n in 1:(r - 1)\n",
    "  xNew = x2[n]\n",
    "  p = rand(Normal())\n",
    "  oldE = H(xNew, p)\n",
    "\n",
    "  for τ_i in 1:τ\n",
    "    p = p - (ɛ / 2) * dU(xNew)\n",
    "    xNew = xNew + ɛ * dK(p)\n",
    "    p = p - (ɛ / 2) * dU(xNew)\n",
    "  end\n",
    "\n",
    "  push!(x2, xNew)\n",
    "end"
   ]
  },
  {
   "cell_type": "code",
   "execution_count": 6,
   "metadata": {
    "collapsed": true
   },
   "outputs": [],
   "source": [
    "\"\"\"\n",
    "HMC with noise with M-H\n",
    "\"\"\"\n",
    "x3 = Array{Float64, 1}(); push!(x3, 0)\n",
    "\n",
    "for n in 1:(r - 1)\n",
    "  xNew = x3[n]\n",
    "  p = rand(Normal())\n",
    "  oldE = H(xNew, p)\n",
    "\n",
    "  for τ_i in 1:τ\n",
    "    p = p - (ɛ / 2) * dU2(xNew)\n",
    "    xNew = xNew + ɛ * dK(p)\n",
    "    p = p - (ɛ / 2) * dU2(xNew)\n",
    "  end\n",
    "\n",
    "  newE = H(xNew, p)\n",
    "  dE = newE - oldE\n",
    "\n",
    "  if dE < 0\n",
    "    push!(x3, xNew)\n",
    "  elseif rand(Uniform()) < exp(-dE)\n",
    "    push!(x3, xNew)\n",
    "  else\n",
    "    push!(x3, x3[n])\n",
    "  end\n",
    "\n",
    "end\n"
   ]
  },
  {
   "cell_type": "code",
   "execution_count": 7,
   "metadata": {
    "collapsed": true
   },
   "outputs": [],
   "source": [
    "\"\"\"\n",
    "HMC without noise with no M-H\n",
    "\"\"\"\n",
    "x4 = Array{Float64, 1}(); push!(x4, 0)\n",
    "\n",
    "for n in 1:(r - 1)\n",
    "  xNew = x4[n]\n",
    "  p = rand(Normal())\n",
    "  oldE = H(xNew, p)\n",
    "\n",
    "  for τ_i in 1:τ\n",
    "    p = p - (ɛ / 2) * dU2(xNew)\n",
    "    xNew = xNew + ɛ * dK(p)\n",
    "    p = p - (ɛ / 2) * dU2(xNew)\n",
    "  end\n",
    "\n",
    "  push!(x4, xNew)\n",
    "end\n"
   ]
  },
  {
   "cell_type": "code",
   "execution_count": 13,
   "metadata": {
    "collapsed": false
   },
   "outputs": [
    {
     "name": "stderr",
     "output_type": "stream",
     "text": [
      "WARNING: replacing docs for 'x5 :: Union{}' in module 'Main'.\n"
     ]
    },
    {
     "ename": "LoadError",
     "evalue": "LoadError: BoundsError: attempt to access 1-element Array{Float64,1} at index [2]\nwhile loading In[13], in expression starting on line 5",
     "output_type": "error",
     "traceback": [
      "LoadError: BoundsError: attempt to access 1-element Array{Float64,1} at index [2]\nwhile loading In[13], in expression starting on line 5",
      "",
      " in setindex!(::Array{Float64,1}, ::Float64, ::Int64) at ./array.jl:415",
      " in setindex!(::Array{Float64,1}, ::Float64, ::Int64) at /Applications/Julia-0.5.app/Contents/Resources/julia/lib/julia/sys.dylib:?",
      " in macro expansion; at ./In[13]:12 [inlined]",
      " in anonymous at ./<missing>:?"
     ]
    }
   ],
   "source": [
    "\"\"\"\n",
    "Stochastic Gradient HMC\n",
    "\"\"\"\n",
    "x5 = Array{Float64, 1}(); push!(x5, 0)\n",
    "for n in 1:(r - 1)\n",
    "  p = rand(Normal()) * sqrt(1);\n",
    "  B = 0.5 * V * ɛ;\n",
    "  D = sqrt(2 * (C - B) * ɛ);\n",
    "\n",
    "  for i = 1:τ\n",
    "      p = p - dU2(xNew) * ɛ  - p * C * ɛ  + rand(Normal()) * D;\n",
    "      x5[n + 1] = x5[n] + dK(p) * dt;\n",
    "  end\n",
    "\n",
    "  push!(x5, xNew)\n",
    "end\n",
    "\n"
   ]
  },
  {
   "cell_type": "code",
   "execution_count": null,
   "metadata": {
    "collapsed": true
   },
   "outputs": [],
   "source": [
    "\"\"\"\n",
    "Plot the Target Distribution and HMCs\n",
    "\"\"\"\n",
    "xGrid = collect(-3:xStep:3);\n",
    "y = exp(-U(xGrid));\n",
    "y = y / sum(y) / xStep;\n",
    "xhmc1, yhmc1 = hist(x, xGrid);\n",
    "yhmc1 = yhmc1 / sum(yhmc1) / xStep;\n",
    "\n",
    "xhmc2, yhmc2 = hist(x2, xGrid);\n",
    "yhmc2 = yhmc2 / sum(yhmc2) / xStep;\n",
    "\n",
    "xhmc3, yhmc3 = hist(x3, xGrid);\n",
    "yhmc3 = yhmc3 / sum(yhmc3) / xStep;\n",
    "\n",
    "xhmc4, yhmc4 = hist(x4, xGrid);\n",
    "yhmc4 = yhmc4 / sum(yhmc4) / xStep;\n",
    "\n",
    "xhmc5, yhmc5 = hist(x5, xGrid);\n",
    "yhmc5 = yhmc5 / sum(yhmc5) / xStep;\n",
    "xyplot(xGrid, y, linestyle = \"-\", marker = \"\", save = false);\n",
    "xyplot(xhmc1[2:end], yhmc1, linestyle = \"-\", marker = \"\", add = true, save = false);\n",
    "xyplot(xhmc2[2:end], yhmc2, linestyle = \"-\", marker = \"\", add = true, save = false);\n",
    "xyplot(xhmc3[2:end], yhmc3, linestyle = \"-\", marker = \"\", add = true, save = false);\n",
    "xyplot(xhmc4[2:end], yhmc4, linestyle = \"-\", marker = \"\", add = true, save = false);\n",
    "xyplot(xhmc5[2:end], yhmc5, linestyle = \"-\", marker = \"\", add = true);\n",
    "\n",
    "\"\"\"\n",
    "Plot the Autocorrelation\n",
    "\"\"\"\n",
    "barplot(autocor(x1))\n",
    "barplot(autocor(x2))\n",
    "barplot(autocor(x3))\n",
    "barplot(autocor(x4))\n",
    "barplot(autocor(x5))"
   ]
  }
 ],
 "metadata": {
  "kernelspec": {
   "display_name": "Julia 0.5.0",
   "language": "julia",
   "name": "julia-0.5"
  },
  "language_info": {
   "file_extension": ".jl",
   "mimetype": "application/julia",
   "name": "julia",
   "version": "0.5.0"
  }
 },
 "nbformat": 4,
 "nbformat_minor": 1
}
