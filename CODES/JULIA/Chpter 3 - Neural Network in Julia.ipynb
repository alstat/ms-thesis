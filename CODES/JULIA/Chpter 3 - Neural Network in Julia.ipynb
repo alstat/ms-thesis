{
 "cells": [
  {
   "cell_type": "markdown",
   "metadata": {},
   "source": [
    "# Chapter 3"
   ]
  },
  {
   "cell_type": "markdown",
   "metadata": {},
   "source": [
    "by **Al-Ahmadgaid B. Asaad** (`alstatr.blogspot.com`; `alasaadstat@gmail.com`). This notebook contains source codes used in the thesis.\n",
    "<table width = 100% style='text-align: center; margin-top: -5px; margin-bottom: 2px;'>\n",
    "<tr><td width = 150px>`Chapter Title`</td><td><font color = \"#FFA700\"><b>Bayesian Inference and Basic Definitions</b></font></td><tr>\n",
    "<tr><td width = 150px>`Thesis Title`</td><td><font color = \"#FFA700\"><b>BAYESIAN INFERENCE OF ARTIFICIAL NEURAL NETWORKS AND HIDDEN MARKOV MODELS HYBRIDS</b></font></td></tr><br/>\n",
    "</table>"
   ]
  },
  {
   "cell_type": "markdown",
   "metadata": {},
   "source": [
    "Define the sigmoid function"
   ]
  },
  {
   "cell_type": "code",
   "execution_count": 150,
   "metadata": {
    "collapsed": false
   },
   "outputs": [
    {
     "data": {
      "text/plain": [
       "activate (generic function with 1 method)"
      ]
     },
     "execution_count": 150,
     "metadata": {},
     "output_type": "execute_result"
    }
   ],
   "source": [
    "function activate(θ; deriv = false)    \n",
    "    if (θ |> length) > 1\n",
    "        if deriv == true\n",
    "            return θ .* (repeat([1], inner = [length(θ)]) - θ)\n",
    "        else\n",
    "            output = zeros(size(θ))\n",
    "            for i in 1:length(θ)\n",
    "                output[i] = 1 / (1 + exp(-θ[i]))\n",
    "            end\n",
    "            return output\n",
    "        end\n",
    "    else\n",
    "        if deriv == true\n",
    "            return θ * (1 - θ)\n",
    "        else\n",
    "            return 1 / (1 + exp(-θ))\n",
    "        end\n",
    "    end\n",
    "end"
   ]
  },
  {
   "cell_type": "markdown",
   "metadata": {},
   "source": [
    "Hypothethical Data"
   ]
  },
  {
   "cell_type": "code",
   "execution_count": 151,
   "metadata": {
    "collapsed": false
   },
   "outputs": [],
   "source": [
    "X = [0 0 1;\n",
    "     0 1 1;\n",
    "     1 0 1;\n",
    "     1 1 1]\n",
    "\n",
    "y = [0; 0; 1; 1];"
   ]
  },
  {
   "cell_type": "code",
   "execution_count": 152,
   "metadata": {
    "collapsed": false
   },
   "outputs": [
    {
     "name": "stdout",
     "output_type": "stream",
     "text": [
      "Output After Training:\n",
      "[0.0030174511521375478\n",
      " 0.002461171587121849\n",
      " 0.9979915128745332\n",
      " 0.997537297477285]"
     ]
    }
   ],
   "source": [
    "srand(123)\n",
    "max_iter = Int(1e+5)\n",
    "synapse = randn((3, 1))\n",
    "\n",
    "for i in 1:max_iter\n",
    "    # forward propagation\n",
    "    l0 = X\n",
    "    l1 = activate(l0 * synapse)\n",
    "    \n",
    "    # how much did we miss?\n",
    "    l1_error = y - l1\n",
    "    \n",
    "    # multiply how much we missed by the slope\n",
    "    # of the sigmoid at the values in l1\n",
    "    l1_delta = l1_error .* activate(l1, deriv =  true)\n",
    "    \n",
    "    # update weights\n",
    "    synapse += l0' * l1_delta\n",
    "end\n",
    "\n",
    "\"Output After Training:\\n\" |> print\n",
    "print(l1)"
   ]
  },
  {
   "cell_type": "code",
   "execution_count": 153,
   "metadata": {
    "collapsed": false
   },
   "outputs": [],
   "source": [
    "w_start;"
   ]
  },
  {
   "cell_type": "code",
   "execution_count": 31,
   "metadata": {
    "collapsed": false
   },
   "outputs": [],
   "source": [
    "using DataFrames\n",
    "using Requests\n",
    "\n",
    "url = \"https://raw.githubusercontent.com/abhik1368/dsdht/master/Microarray%20Data%20Analysis/GSE13425_Norm_Whole.txt\"\n",
    "dat = readtable(Requests.get_streaming(url));"
   ]
  }
 ],
 "metadata": {
  "kernelspec": {
   "display_name": "Julia 0.4.5",
   "language": "julia",
   "name": "julia-0.4"
  },
  "language_info": {
   "file_extension": ".jl",
   "mimetype": "application/julia",
   "name": "julia",
   "version": "0.4.5"
  }
 },
 "nbformat": 4,
 "nbformat_minor": 0
}
